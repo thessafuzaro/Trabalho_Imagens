{
  "nbformat": 4,
  "nbformat_minor": 0,
  "metadata": {
    "colab": {
      "name": "Classificacao_Imagens.ipynb",
      "provenance": [],
      "include_colab_link": true
    },
    "kernelspec": {
      "name": "python3",
      "display_name": "Python 3"
    },
    "language_info": {
      "name": "python"
    }
  },
  "cells": [
    {
      "cell_type": "markdown",
      "metadata": {
        "id": "view-in-github",
        "colab_type": "text"
      },
      "source": [
        "<a href=\"https://colab.research.google.com/github/thessafuzaro/Trabalho_Imagens/blob/main/Classificacao_Imagens.ipynb\" target=\"_parent\"><img src=\"https://colab.research.google.com/assets/colab-badge.svg\" alt=\"Open In Colab\"/></a>"
      ]
    },
    {
      "cell_type": "code",
      "metadata": {
        "id": "VumF8Fkd4B2M"
      },
      "source": [
        "from matplotlib import pyplot as plt\n",
        "import numpy as np\n",
        "import pandas as pd\n",
        "import cv2\n",
        "import random\n",
        "import zipfile\n",
        "from sklearn.model_selection import train_test_split"
      ],
      "execution_count": 57,
      "outputs": []
    },
    {
      "cell_type": "code",
      "metadata": {
        "colab": {
          "base_uri": "https://localhost:8080/"
        },
        "id": "G6zkIELM4FGk",
        "outputId": "39500e7d-e5ff-4eb1-c17b-e51817149a83"
      },
      "source": [
        "#clonando os arquivos \n",
        "!git clone https://github.com/thessafuzaro/Trabalho_Imagens\n",
        "%cd Trabalho_Imagens"
      ],
      "execution_count": 58,
      "outputs": [
        {
          "output_type": "stream",
          "text": [
            "Cloning into 'Trabalho_Imagens'...\n",
            "remote: Enumerating objects: 21, done.\u001b[K\n",
            "remote: Counting objects: 100% (21/21), done.\u001b[K\n",
            "remote: Compressing objects: 100% (19/19), done.\u001b[K\n",
            "remote: Total 21 (delta 5), reused 0 (delta 0), pack-reused 0\u001b[K\n",
            "Unpacking objects: 100% (21/21), done.\n",
            "/content/Trabalho_Imagens/Trabalho_Imagens/Trabalho_Imagens/Trabalho_Imagens/Trabalho_Imagens/Trabalho_Imagens/Trabalho_Imagens\n"
          ],
          "name": "stdout"
        }
      ]
    },
    {
      "cell_type": "code",
      "metadata": {
        "id": "PgVpmRi7mRlb"
      },
      "source": [
        "#Salvando as imagens na variável x:\n",
        "Folder =['daisy.zip','dandelion.zip','rose.zip','Trash.zip']   #lendo os arquivos zipados\n",
        "Image_Name=[]\n",
        "X_Gray=[]\n",
        "X_Original=[]\n",
        "for File in Folder:\n",
        "  File_Name = zipfile.ZipFile(File, 'r')\n",
        "  File_Name.extractall()   #extraindo os arquivos zip\n",
        "  with zipfile.ZipFile(File, \"r\") as f:\n",
        "      for Name in f.namelist():\n",
        "          Image_Name.append(Name)"
      ],
      "execution_count": 59,
      "outputs": []
    },
    {
      "cell_type": "code",
      "metadata": {
        "id": "Rw0LeVUxb69_"
      },
      "source": [
        "Y_Names = []\n",
        "for yy in Image_Name:\n",
        "  Name = yy[0]+yy[1]+yy[2]\n",
        "  Y_Names.append(Name)"
      ],
      "execution_count": 60,
      "outputs": []
    },
    {
      "cell_type": "code",
      "metadata": {
        "id": "kHXoHE64b74V"
      },
      "source": [
        "Unique_List = []    \n",
        "for yy in Y_Names:\n",
        "  if yy not in Unique_List:\n",
        "    Unique_List.append(yy)"
      ],
      "execution_count": 61,
      "outputs": []
    },
    {
      "cell_type": "code",
      "metadata": {
        "id": "BF9OQntxcC1T"
      },
      "source": [
        "n = len(Unique_List)\n",
        "Y = []\n",
        "for yy in Y_Names:\n",
        "  for i in range(n):\n",
        "    if(yy == Unique_List[i]):\n",
        "      Y.append(i)"
      ],
      "execution_count": 62,
      "outputs": []
    },
    {
      "cell_type": "code",
      "metadata": {
        "id": "_UfEBXxevfc3"
      },
      "source": [
        "DATASET_SIZE = len(Y_Names)\n",
        "Ind = range(DATASET_SIZE)\n",
        "Image_Size = 32\n",
        "Num_Range = DATASET_SIZE"
      ],
      "execution_count": 63,
      "outputs": []
    },
    {
      "cell_type": "code",
      "metadata": {
        "id": "WaQGiOZtbsuD"
      },
      "source": [
        "Ind_Train, Ind_Test= train_test_split(Ind,test_size=0.20, shuffle=True, random_state=3)"
      ],
      "execution_count": 64,
      "outputs": []
    },
    {
      "cell_type": "code",
      "metadata": {
        "id": "H3NeNX-PvtRm",
        "outputId": "fa8b2cfc-2f73-4b57-85df-315119b5bb6f",
        "colab": {
          "base_uri": "https://localhost:8080/",
          "height": 221
        }
      },
      "source": [
        "X_Train = []\n",
        "Y_Train = []\n",
        "for II in Ind_Train:\n",
        "  Name = Image_Name[II]\n",
        "  X_Train.append(cv2.resize(cv2.imread(Name),(Image_Size,Image_Size)))\n",
        "  Y_Train.append(Y[II])"
      ],
      "execution_count": 65,
      "outputs": [
        {
          "output_type": "error",
          "ename": "error",
          "evalue": "ignored",
          "traceback": [
            "\u001b[0;31m---------------------------------------------------------------------------\u001b[0m",
            "\u001b[0;31merror\u001b[0m                                     Traceback (most recent call last)",
            "\u001b[0;32m<ipython-input-65-cefd4e1cc3ea>\u001b[0m in \u001b[0;36m<module>\u001b[0;34m()\u001b[0m\n\u001b[1;32m      3\u001b[0m \u001b[0;32mfor\u001b[0m \u001b[0mII\u001b[0m \u001b[0;32min\u001b[0m \u001b[0mInd_Train\u001b[0m\u001b[0;34m:\u001b[0m\u001b[0;34m\u001b[0m\u001b[0;34m\u001b[0m\u001b[0m\n\u001b[1;32m      4\u001b[0m   \u001b[0mName\u001b[0m \u001b[0;34m=\u001b[0m \u001b[0mImage_Name\u001b[0m\u001b[0;34m[\u001b[0m\u001b[0mII\u001b[0m\u001b[0;34m]\u001b[0m\u001b[0;34m\u001b[0m\u001b[0;34m\u001b[0m\u001b[0m\n\u001b[0;32m----> 5\u001b[0;31m   \u001b[0mX_Train\u001b[0m\u001b[0;34m.\u001b[0m\u001b[0mappend\u001b[0m\u001b[0;34m(\u001b[0m\u001b[0mcv2\u001b[0m\u001b[0;34m.\u001b[0m\u001b[0mresize\u001b[0m\u001b[0;34m(\u001b[0m\u001b[0mcv2\u001b[0m\u001b[0;34m.\u001b[0m\u001b[0mimread\u001b[0m\u001b[0;34m(\u001b[0m\u001b[0mName\u001b[0m\u001b[0;34m)\u001b[0m\u001b[0;34m,\u001b[0m\u001b[0;34m(\u001b[0m\u001b[0mImage_Size\u001b[0m\u001b[0;34m,\u001b[0m\u001b[0mImage_Size\u001b[0m\u001b[0;34m)\u001b[0m\u001b[0;34m)\u001b[0m\u001b[0;34m)\u001b[0m\u001b[0;34m\u001b[0m\u001b[0;34m\u001b[0m\u001b[0m\n\u001b[0m\u001b[1;32m      6\u001b[0m   \u001b[0mY_Train\u001b[0m\u001b[0;34m.\u001b[0m\u001b[0mappend\u001b[0m\u001b[0;34m(\u001b[0m\u001b[0mY\u001b[0m\u001b[0;34m[\u001b[0m\u001b[0mII\u001b[0m\u001b[0;34m]\u001b[0m\u001b[0;34m)\u001b[0m\u001b[0;34m\u001b[0m\u001b[0;34m\u001b[0m\u001b[0m\n",
            "\u001b[0;31merror\u001b[0m: OpenCV(4.1.2) /io/opencv/modules/imgproc/src/resize.cpp:3720: error: (-215:Assertion failed) !ssize.empty() in function 'resize'\n"
          ]
        }
      ]
    },
    {
      "cell_type": "code",
      "metadata": {
        "id": "vHeC2Eumyu6N"
      },
      "source": [
        "X_Test= []\n",
        "Y_Test = []\n",
        "for II in Ind_Test:\n",
        "  Name = Image_Name[II]\n",
        "  X_Test.append(cv2.resize(cv2.imread(Name),(Image_Size,Image_Size)))\n",
        "  Y_Test.append(y[II])"
      ],
      "execution_count": null,
      "outputs": []
    },
    {
      "cell_type": "code",
      "metadata": {
        "id": "NEy9670uvvDF"
      },
      "source": [
        "# Imagens de treino\n",
        "Num,Cols,Dim = np.array(X_Train[0]).shape\n",
        "plt.figure(figsize=(16, 16))\n",
        "for i in range(16):\n",
        "  ax = plt.subplot(4, 4, i + 1)\n",
        "  kk = Int(random.randrange(Num))\n",
        "  plt.imshow(X_Train[kk])\n",
        "  plt.title(Y_Train[kk])\n",
        "  plt.axis(\"off\")"
      ],
      "execution_count": null,
      "outputs": []
    },
    {
      "cell_type": "code",
      "metadata": {
        "id": "cRIsKVz4n3ws"
      },
      "source": [
        "# Imagens de teste\n",
        "Num,Cols,Dim = np.array(X_Test[0]).shape\n",
        "plt.figure(figsize=(16, 16))\n",
        "for i in range(16):\n",
        "  ax = plt.subplot(4, 4, i + 1)\n",
        "  kk = Int(random.randrange(Num))\n",
        "  plt.imshow(X_Test[kk])\n",
        "  plt.title(Y_Test[kk])\n",
        "  plt.axis(\"off\")"
      ],
      "execution_count": null,
      "outputs": []
    }
  ]
}