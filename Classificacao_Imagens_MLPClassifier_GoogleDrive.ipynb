{
  "nbformat": 4,
  "nbformat_minor": 0,
  "metadata": {
    "colab": {
      "name": "Classificacao_Imagens_MLPClassifier_GoogleDrive.ipynb",
      "provenance": [],
      "include_colab_link": true
    },
    "kernelspec": {
      "name": "python3",
      "display_name": "Python 3"
    },
    "language_info": {
      "name": "python"
    },
    "accelerator": "GPU"
  },
  "cells": [
    {
      "cell_type": "markdown",
      "metadata": {
        "id": "view-in-github",
        "colab_type": "text"
      },
      "source": [
        "<a href=\"https://colab.research.google.com/github/thessafuzaro/Trabalho_Imagens/blob/main/Classificacao_Imagens_MLPClassifier_GoogleDrive.ipynb\" target=\"_parent\"><img src=\"https://colab.research.google.com/assets/colab-badge.svg\" alt=\"Open In Colab\"/></a>"
      ]
    },
    {
      "cell_type": "code",
      "metadata": {
        "id": "wnlZ4dQxNdWu"
      },
      "source": [
        "#Segundo Projeto de redes neurais\n",
        "#Processamento de Imagens\n",
        "#Aluna: Thessa Fuzaro Mendes\n",
        "#Data: 06/07/2021"
      ],
      "execution_count": 25,
      "outputs": []
    },
    {
      "cell_type": "code",
      "metadata": {
        "id": "VumF8Fkd4B2M"
      },
      "source": [
        "from matplotlib import pyplot as plt  # para fazer graficos\n",
        "import numpy as np\n",
        "import pandas as pd\n",
        "import cv2  #biblioteca que trabalha com imagens\n",
        "import random\n",
        "import zipfile  #para trabalhar com arquivos zip\n",
        "from sklearn.neural_network import MLPClassifier\n",
        "from sklearn import preprocessing\n",
        "from sklearn.model_selection import train_test_split\n",
        "from sklearn.metrics import classification_report"
      ],
      "execution_count": 26,
      "outputs": []
    },
    {
      "cell_type": "code",
      "metadata": {
        "colab": {
          "base_uri": "https://localhost:8080/"
        },
        "id": "G6zkIELM4FGk",
        "outputId": "c61e32f7-72d2-49e0-fead-30ff2ff44ea8"
      },
      "source": [
        "#Importando os arquivos que estão no googledrive\n",
        "!gdown --id 1HNVtQ_e03o7QqkdQLtDYKsJNfW3Bv403/view?usp=sharing"
      ],
      "execution_count": 27,
      "outputs": [
        {
          "output_type": "stream",
          "text": [
            "Permission denied: https://drive.google.com/uc?id=1HNVtQ_e03o7QqkdQLtDYKsJNfW3Bv403/view?usp=sharing\n",
            "Maybe you need to change permission over 'Anyone with the link'?\n"
          ],
          "name": "stdout"
        }
      ]
    },
    {
      "cell_type": "code",
      "metadata": {
        "id": "PgVpmRi7mRlb",
        "colab": {
          "base_uri": "https://localhost:8080/",
          "height": 363
        },
        "outputId": "5b3746c7-1d30-490e-fb8e-02f9bbc202a3"
      },
      "source": [
        "#Extraindo os arquivos zip e salvando na variavel x\n",
        "Arq =['All_Flowers.zip']  #importando os arquivos\n",
        "Image_Size=80\n",
        "Image_Name=[]  #lista em branco\n",
        "X_Gray=[]  \n",
        "X_Original = []\n",
        "for FILE in Arq:\n",
        "  file_name = zipfile.ZipFile(FILE, 'r')\n",
        "  file_name.extractall()    #extraindo os arquivos e colocando em uma lista unica com os nomes\n",
        "  with zipfile.ZipFile(FILE, \"r\") as f:\n",
        "      for Name in f.namelist():\n",
        "          Image_Name.append(Name)\n",
        "         # print(name)\n",
        "          X_Gray.append(cv2.resize(cv2.imread(Name, 0),(Image_Size,Image_Size))) #passando a imagem para preto e branco e redimensionando"
      ],
      "execution_count": 28,
      "outputs": [
        {
          "output_type": "error",
          "ename": "FileNotFoundError",
          "evalue": "ignored",
          "traceback": [
            "\u001b[0;31m---------------------------------------------------------------------------\u001b[0m",
            "\u001b[0;31mFileNotFoundError\u001b[0m                         Traceback (most recent call last)",
            "\u001b[0;32m<ipython-input-28-a2d2b5cc8d8e>\u001b[0m in \u001b[0;36m<module>\u001b[0;34m()\u001b[0m\n\u001b[1;32m      6\u001b[0m \u001b[0mX_Original\u001b[0m \u001b[0;34m=\u001b[0m \u001b[0;34m[\u001b[0m\u001b[0;34m]\u001b[0m\u001b[0;34m\u001b[0m\u001b[0;34m\u001b[0m\u001b[0m\n\u001b[1;32m      7\u001b[0m \u001b[0;32mfor\u001b[0m \u001b[0mFILE\u001b[0m \u001b[0;32min\u001b[0m \u001b[0mArq\u001b[0m\u001b[0;34m:\u001b[0m\u001b[0;34m\u001b[0m\u001b[0;34m\u001b[0m\u001b[0m\n\u001b[0;32m----> 8\u001b[0;31m   \u001b[0mfile_name\u001b[0m \u001b[0;34m=\u001b[0m \u001b[0mzipfile\u001b[0m\u001b[0;34m.\u001b[0m\u001b[0mZipFile\u001b[0m\u001b[0;34m(\u001b[0m\u001b[0mFILE\u001b[0m\u001b[0;34m,\u001b[0m \u001b[0;34m'r'\u001b[0m\u001b[0;34m)\u001b[0m\u001b[0;34m\u001b[0m\u001b[0;34m\u001b[0m\u001b[0m\n\u001b[0m\u001b[1;32m      9\u001b[0m   \u001b[0mfile_name\u001b[0m\u001b[0;34m.\u001b[0m\u001b[0mextractall\u001b[0m\u001b[0;34m(\u001b[0m\u001b[0;34m)\u001b[0m    \u001b[0;31m#extraindo os arquivos e colocando em uma lista unica com os nomes\u001b[0m\u001b[0;34m\u001b[0m\u001b[0;34m\u001b[0m\u001b[0m\n\u001b[1;32m     10\u001b[0m   \u001b[0;32mwith\u001b[0m \u001b[0mzipfile\u001b[0m\u001b[0;34m.\u001b[0m\u001b[0mZipFile\u001b[0m\u001b[0;34m(\u001b[0m\u001b[0mFILE\u001b[0m\u001b[0;34m,\u001b[0m \u001b[0;34m\"r\"\u001b[0m\u001b[0;34m)\u001b[0m \u001b[0;32mas\u001b[0m \u001b[0mf\u001b[0m\u001b[0;34m:\u001b[0m\u001b[0;34m\u001b[0m\u001b[0;34m\u001b[0m\u001b[0m\n",
            "\u001b[0;32m/usr/lib/python3.7/zipfile.py\u001b[0m in \u001b[0;36m__init__\u001b[0;34m(self, file, mode, compression, allowZip64, compresslevel)\u001b[0m\n\u001b[1;32m   1238\u001b[0m             \u001b[0;32mwhile\u001b[0m \u001b[0;32mTrue\u001b[0m\u001b[0;34m:\u001b[0m\u001b[0;34m\u001b[0m\u001b[0;34m\u001b[0m\u001b[0m\n\u001b[1;32m   1239\u001b[0m                 \u001b[0;32mtry\u001b[0m\u001b[0;34m:\u001b[0m\u001b[0;34m\u001b[0m\u001b[0;34m\u001b[0m\u001b[0m\n\u001b[0;32m-> 1240\u001b[0;31m                     \u001b[0mself\u001b[0m\u001b[0;34m.\u001b[0m\u001b[0mfp\u001b[0m \u001b[0;34m=\u001b[0m \u001b[0mio\u001b[0m\u001b[0;34m.\u001b[0m\u001b[0mopen\u001b[0m\u001b[0;34m(\u001b[0m\u001b[0mfile\u001b[0m\u001b[0;34m,\u001b[0m \u001b[0mfilemode\u001b[0m\u001b[0;34m)\u001b[0m\u001b[0;34m\u001b[0m\u001b[0;34m\u001b[0m\u001b[0m\n\u001b[0m\u001b[1;32m   1241\u001b[0m                 \u001b[0;32mexcept\u001b[0m \u001b[0mOSError\u001b[0m\u001b[0;34m:\u001b[0m\u001b[0;34m\u001b[0m\u001b[0;34m\u001b[0m\u001b[0m\n\u001b[1;32m   1242\u001b[0m                     \u001b[0;32mif\u001b[0m \u001b[0mfilemode\u001b[0m \u001b[0;32min\u001b[0m \u001b[0mmodeDict\u001b[0m\u001b[0;34m:\u001b[0m\u001b[0;34m\u001b[0m\u001b[0;34m\u001b[0m\u001b[0m\n",
            "\u001b[0;31mFileNotFoundError\u001b[0m: [Errno 2] No such file or directory: 'All_Flowers.zip'"
          ]
        }
      ]
    },
    {
      "cell_type": "code",
      "metadata": {
        "id": "AShp-GYjE0gr"
      },
      "source": [
        "X_Gray[0].shape"
      ],
      "execution_count": null,
      "outputs": []
    },
    {
      "cell_type": "code",
      "metadata": {
        "id": "Rw0LeVUxb69_"
      },
      "source": [
        "#Recuperando o nome com 4 primeiras letras\n",
        "Y_Names = []\n",
        "for yy in Image_Name:\n",
        "  Name = yy[0]+yy[1]+yy[2]+yy[3]\n",
        "  Y_Names.append(Name)\n",
        "  #print(Y_Names)"
      ],
      "execution_count": null,
      "outputs": []
    },
    {
      "cell_type": "code",
      "metadata": {
        "id": "C9rgGHX9FAqV"
      },
      "source": [
        "#Plotando algumas imagens em preto e branco com seus respectivos nomes (4 primeiras letras)\n",
        "num = len(Y_Names)\n",
        "plt.figure(figsize=(16,16))\n",
        "for i in range (16) :\n",
        "  ax = plt.subplot(4,4,i+1)\n",
        "  kk = random.randrange(num)\n",
        "  plt.imshow(X_Gray[kk], cmap='gray')\n",
        "  plt.title(Y_Names[kk])\n",
        "  plt.axis(\"off\")"
      ],
      "execution_count": null,
      "outputs": []
    },
    {
      "cell_type": "code",
      "metadata": {
        "id": "kHXoHE64b74V"
      },
      "source": [
        "Unique_List = []      #gera uma lista unica \n",
        "for yy in Y_Names:\n",
        "  if yy not in Unique_List:\n",
        "    Unique_List.append(yy)"
      ],
      "execution_count": null,
      "outputs": []
    },
    {
      "cell_type": "code",
      "metadata": {
        "id": "BF9OQntxcC1T"
      },
      "source": [
        "n = len(Unique_List)  #separa em classes ao inves de nome aparece o índice referente\n",
        "Y = []\n",
        "for yy in Y_Names:\n",
        "  for i in range(n):\n",
        "    if(yy == Unique_List[i]):\n",
        "      Y.append(i)"
      ],
      "execution_count": null,
      "outputs": []
    },
    {
      "cell_type": "code",
      "metadata": {
        "id": "Cmg9xe2a78Af"
      },
      "source": [
        "Unique_List #mostrandoa lista unica"
      ],
      "execution_count": null,
      "outputs": []
    },
    {
      "cell_type": "code",
      "metadata": {
        "id": "_UfEBXxevfc3"
      },
      "source": [
        "X_Data=[]\n",
        "for xx in X_Gray:  #lendo  as fotos em preto e branco \n",
        "  X_Data.append(xx.ravel())  # cada linha é uma variável dependente \n",
        "\n",
        "X = pd.DataFrame(X_Data)"
      ],
      "execution_count": null,
      "outputs": []
    },
    {
      "cell_type": "code",
      "metadata": {
        "id": "WaQGiOZtbsuD"
      },
      "source": [
        "#Separando os dados em 80% de treino e 20% de teste e misturando os dados\n",
        "X_Train, X_Test, Y_Train, Y_Test = train_test_split(X,Y, test_size=0.40, shuffle=True, random_state=3)"
      ],
      "execution_count": null,
      "outputs": []
    },
    {
      "cell_type": "code",
      "metadata": {
        "id": "ddLhpEHIV9L7"
      },
      "source": [
        "#Escalonando os dados entre -1 e 1, usando a função preprocessing:\n",
        "Scaler_X = preprocessing.MinMaxScaler((-1,1)).fit(X)\n",
        "X_Train = Scaler_X.transform(X_Train)\n",
        "X_Test = Scaler_X.transform(X_Test)"
      ],
      "execution_count": null,
      "outputs": []
    },
    {
      "cell_type": "code",
      "metadata": {
        "id": "XFi2cDpz3HoX"
      },
      "source": [
        "#Definindo a rede neural:\n",
        "model = MLPClassifier(solver='lbfgs',activation='tanh',alpha=1e-5,hidden_layer_sizes=(20),\n",
        "                      max_iter=1000,random_state=1)\n",
        "model.fit(X_Train,Y_Train) #Treinando a rede neural"
      ],
      "execution_count": null,
      "outputs": []
    },
    {
      "cell_type": "code",
      "metadata": {
        "id": "1Um1iQ6FXnkx"
      },
      "source": [
        "#Calculando treino e teste por meio da rede neural\n",
        "Y_Calc_Train=model.predict(X_Train)\n",
        "Y_Calc_Test=model.predict(X_Test)"
      ],
      "execution_count": null,
      "outputs": []
    },
    {
      "cell_type": "code",
      "metadata": {
        "id": "7KCEatPYXzkh"
      },
      "source": [
        "#Fazendo a matriz confusão para treino\n",
        "df = pd.DataFrame({'True':Y_Train, 'Calc':Y_Calc_Train})\n",
        "print(pd.crosstab(df['True'],df['Calc']))"
      ],
      "execution_count": null,
      "outputs": []
    },
    {
      "cell_type": "code",
      "metadata": {
        "id": "xLDgnRdkYYcN"
      },
      "source": [
        "#Fazendo a matriz confusão para teste\n",
        "df = pd.DataFrame({'True':Y_Test, 'Calc':Y_Calc_Test})\n",
        "print(pd.crosstab(df['True'],df['Calc']))"
      ],
      "execution_count": null,
      "outputs": []
    },
    {
      "cell_type": "code",
      "metadata": {
        "id": "qRR9zKMHY_kd"
      },
      "source": [
        "#Chamando a métrica Classification Report\n",
        "Y_True = Y_Test #Amazenando os dados de teste em Y_True\n",
        "Y_Pred = Y_Calc_Test #Armazenando os dados calculados para teste em Y_Pred\n",
        "Title = ['Tulip','Sunflower','Dandelion','Rose','Daisy']\n",
        "print(classification_report(Y_True, Y_Pred,target_names=Title))"
      ],
      "execution_count": null,
      "outputs": []
    },
    {
      "cell_type": "code",
      "metadata": {
        "id": "gWd0Z89VD22q"
      },
      "source": [
        ""
      ],
      "execution_count": null,
      "outputs": []
    }
  ]
}