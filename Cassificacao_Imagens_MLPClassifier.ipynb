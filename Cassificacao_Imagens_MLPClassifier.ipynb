{
  "nbformat": 4,
  "nbformat_minor": 0,
  "metadata": {
    "colab": {
      "name": " Cassificacao_Imagens_MLPClassifier.ipynb",
      "provenance": [],
      "include_colab_link": true
    },
    "kernelspec": {
      "name": "python3",
      "display_name": "Python 3"
    },
    "language_info": {
      "name": "python"
    },
    "accelerator": "GPU"
  },
  "cells": [
    {
      "cell_type": "markdown",
      "metadata": {
        "id": "view-in-github",
        "colab_type": "text"
      },
      "source": [
        "<a href=\"https://colab.research.google.com/github/thessafuzaro/Trabalho_Imagens/blob/main/Cassificacao_Imagens_MLPClassifier.ipynb\" target=\"_parent\"><img src=\"https://colab.research.google.com/assets/colab-badge.svg\" alt=\"Open In Colab\"/></a>"
      ]
    },
    {
      "cell_type": "code",
      "metadata": {
        "id": "wnlZ4dQxNdWu"
      },
      "source": [
        "#Segundo Projeto de redes neurais\n",
        "#Processamento de Imagens\n",
        "#Aluna: Thessa Fuzaro Mendes\n",
        "#Data: 03/07/2021"
      ],
      "execution_count": 70,
      "outputs": []
    },
    {
      "cell_type": "code",
      "metadata": {
        "id": "VumF8Fkd4B2M"
      },
      "source": [
        "from matplotlib import pyplot as plt  # para fazer graficos\n",
        "import numpy as np\n",
        "import pandas as pd\n",
        "import cv2  #biblioteca que trabalha com imagens\n",
        "import random\n",
        "import zipfile  #para trabalhar com arquivos zip\n",
        "from sklearn.neural_network import MLPClassifier\n",
        "from sklearn import preprocessing\n",
        "from sklearn.model_selection import train_test_split\n",
        "from sklearn.metrics import classification_report"
      ],
      "execution_count": 71,
      "outputs": []
    },
    {
      "cell_type": "code",
      "metadata": {
        "colab": {
          "base_uri": "https://localhost:8080/"
        },
        "id": "G6zkIELM4FGk",
        "outputId": "69aaadca-22df-41e7-fc1a-0d939d6fe5a2"
      },
      "source": [
        "#clonando o diretório com os arquivos que estão no github\n",
        "!git clone https://github.com/thessafuzaro/Trabalho_Imagens\n",
        "%cd Trabalho_Imagens"
      ],
      "execution_count": 72,
      "outputs": [
        {
          "output_type": "stream",
          "text": [
            "Cloning into 'Trabalho_Imagens'...\n",
            "remote: Enumerating objects: 73, done.\u001b[K\n",
            "remote: Counting objects: 100% (73/73), done.\u001b[K\n",
            "remote: Compressing objects: 100% (71/71), done.\u001b[K\n",
            "remote: Total 73 (delta 32), reused 0 (delta 0), pack-reused 0\u001b[K\n",
            "Unpacking objects: 100% (73/73), done.\n",
            "/content/Trabalho_Imagens/Trabalho_Imagens/Trabalho_Imagens/Trabalho_Imagens/Trabalho_Imagens\n"
          ],
          "name": "stdout"
        }
      ]
    },
    {
      "cell_type": "code",
      "metadata": {
        "id": "PgVpmRi7mRlb"
      },
      "source": [
        "#Extraindo os arquivos zip e salvando na variavel x\n",
        "Arq =['Daisy.zip','Dandelion.zip','Rose.zip','Not_Flower.zip']  #importando os arquivos\n",
        "Image_Size=80\n",
        "Image_Name=[]  #lista em branco\n",
        "X_Gray=[]  \n",
        "X_Original = []\n",
        "for FILE in Arq:\n",
        "  file_name = zipfile.ZipFile(FILE, 'r')\n",
        "  file_name.extractall()    #extraindo os arquivos e colocando em uma lista unica com os nomes\n",
        "  with zipfile.ZipFile(FILE, \"r\") as f:\n",
        "      for Name in f.namelist():\n",
        "          Image_Name.append(Name)\n",
        "         # print(name)\n",
        "          X_Gray.append(cv2.resize(cv2.imread(Name, 0),(Image_Size,Image_Size)))"
      ],
      "execution_count": 73,
      "outputs": []
    },
    {
      "cell_type": "code",
      "metadata": {
        "id": "Rw0LeVUxb69_"
      },
      "source": [
        "#Recuperando o nome com 4 primeiras letras\n",
        "Y_Names = []\n",
        "for yy in Image_Name:\n",
        "  Name = yy[0]+yy[1]+yy[2]+yy[3]\n",
        "  Y_Names.append(Name)\n",
        "  #print(Y_Names)"
      ],
      "execution_count": 74,
      "outputs": []
    },
    {
      "cell_type": "code",
      "metadata": {
        "id": "kHXoHE64b74V"
      },
      "source": [
        "Unique_List = []      #gera uma lista unica \n",
        "for yy in Y_Names:\n",
        "  if yy not in Unique_List:\n",
        "    Unique_List.append(yy)"
      ],
      "execution_count": 75,
      "outputs": []
    },
    {
      "cell_type": "code",
      "metadata": {
        "id": "BF9OQntxcC1T"
      },
      "source": [
        "n = len(Unique_List)  #separa em classes ao inves de nome aparece o índice referente\n",
        "Y = []\n",
        "for yy in Y_Names:\n",
        "  for i in range(n):\n",
        "    if(yy == Unique_List[i]):\n",
        "      Y.append(i)"
      ],
      "execution_count": 76,
      "outputs": []
    },
    {
      "cell_type": "code",
      "metadata": {
        "colab": {
          "base_uri": "https://localhost:8080/"
        },
        "id": "Cmg9xe2a78Af",
        "outputId": "0e925636-cfe9-44d5-a5a0-63c20c43833b"
      },
      "source": [
        "Unique_List #mostrandoa lista unica"
      ],
      "execution_count": 77,
      "outputs": [
        {
          "output_type": "execute_result",
          "data": {
            "text/plain": [
              "['Dais', 'Dand', 'Rose', 'Not_']"
            ]
          },
          "metadata": {
            "tags": []
          },
          "execution_count": 77
        }
      ]
    },
    {
      "cell_type": "code",
      "metadata": {
        "id": "_UfEBXxevfc3"
      },
      "source": [
        "X_Data=[]\n",
        "for xx in X_Gray:  #lendo  as fotos em preto e branco \n",
        "  X_Data.append(xx.ravel())  # cada linha é uma variável dependente \n",
        "\n",
        "X = pd.DataFrame(X_Data)"
      ],
      "execution_count": 78,
      "outputs": []
    },
    {
      "cell_type": "code",
      "metadata": {
        "id": "WaQGiOZtbsuD"
      },
      "source": [
        "#Separando os dados em 80% de treino e 20% de teste e misturando os dados\n",
        "X_Train, X_Test, Y_Train, Y_Test = train_test_split(X,Y, test_size=0.20, shuffle=True, random_state=3)"
      ],
      "execution_count": 79,
      "outputs": []
    },
    {
      "cell_type": "code",
      "metadata": {
        "id": "ddLhpEHIV9L7"
      },
      "source": [
        "#Escalonando os dados entre -1 e 1, usando a função preprocessing:\n",
        "Scaler_X = preprocessing.MinMaxScaler((-1,1)).fit(X)\n",
        "X_Train = Scaler_X.transform(X_Train)\n",
        "X_Test = Scaler_X.transform(X_Test)"
      ],
      "execution_count": 80,
      "outputs": []
    },
    {
      "cell_type": "code",
      "metadata": {
        "id": "XFi2cDpz3HoX"
      },
      "source": [
        "#Definindo a rede neural:\n",
        "model = MLPClassifier(solver='lbfgs',activation='tanh',alpha=1e-5,hidden_layer_sizes=(18),\n",
        "                      max_iter=1000,random_state=1)\n",
        "model.fit(X_Train,Y_Train) #Treinando a rede neural"
      ],
      "execution_count": null,
      "outputs": []
    },
    {
      "cell_type": "code",
      "metadata": {
        "id": "1Um1iQ6FXnkx"
      },
      "source": [
        "#Calculando treino e teste por meio da rede neural\n",
        "Y_Calc_Train=model.predict(X_Train)\n",
        "Y_Calc_Test=model.predict(X_Test)"
      ],
      "execution_count": null,
      "outputs": []
    },
    {
      "cell_type": "code",
      "metadata": {
        "id": "7KCEatPYXzkh"
      },
      "source": [
        "#Fazendo a matriz confusão para treino\n",
        "df = pd.DataFrame({'True':Y_Train, 'Calc':Y_Calc_Train})\n",
        "print(pd.crosstab(df['True'],df['Calc']))"
      ],
      "execution_count": null,
      "outputs": []
    },
    {
      "cell_type": "code",
      "metadata": {
        "id": "xLDgnRdkYYcN"
      },
      "source": [
        "#Fazendo a matriz confusão para teste\n",
        "df = pd.DataFrame({'True':Y_Test, 'Calc':Y_Calc_Test})\n",
        "print(pd.crosstab(df['True'],df['Calc']))"
      ],
      "execution_count": null,
      "outputs": []
    },
    {
      "cell_type": "code",
      "metadata": {
        "id": "qRR9zKMHY_kd"
      },
      "source": [
        "#Chamando a métrica Classification Report\n",
        "Y_True = Y_Test #Amazenando os dados de teste em Y_True\n",
        "Y_Pred = Y_Calc_Test #Armazenando os dados calculados para teste em Y_Pred\n",
        "Title = ['Daisy','Dandelion','Rose','Not_Flower']\n",
        "print(classification_report(Y_True, Y_Pred,target_names=Title))"
      ],
      "execution_count": null,
      "outputs": []
    },
    {
      "cell_type": "code",
      "metadata": {
        "id": "8-4lC51WoKbF"
      },
      "source": [
        "# Imagens de treino em que aparece o numero relacionado ao tipo de flor (0=daisy; 1=dandelion; 2=rose; 3= not_flower)\n",
        "num,cols,dim = np.array(X_train[0]).shape\n",
        "plt.figure(figsize=(16,16))\n",
        "for i in range(16):\n",
        "  ax = plt.subplot(4, 4, i + 1)\n",
        "  kk = int(random.randrange(num))  \n",
        "  plt.imshow(X_train[kk])\n",
        "  plt.title(Y_train[kk])\n",
        "  plt.axis(\"off\")"
      ],
      "execution_count": null,
      "outputs": []
    },
    {
      "cell_type": "code",
      "metadata": {
        "id": "LhDga528oNi1"
      },
      "source": [
        "# Imagens de teste\n",
        "num,cols,dim = np.array(X_test[0]).shape\n",
        "plt.figure(figsize=(16, 16))\n",
        "for i in range(16):\n",
        "  ax = plt.subplot(4, 4, i + 1)\n",
        "  kk = int(random.randrange(num))\n",
        "  plt.imshow(X_test[kk])\n",
        "  plt.title(Y_test[kk])\n",
        "  plt.axis(\"off\")"
      ],
      "execution_count": null,
      "outputs": []
    },
    {
      "cell_type": "code",
      "metadata": {
        "id": "gWd0Z89VD22q"
      },
      "source": [
        ""
      ],
      "execution_count": null,
      "outputs": []
    }
  ]
}