{
  "nbformat": 4,
  "nbformat_minor": 0,
  "metadata": {
    "colab": {
      "name": "Cassificacao_Imagens_SVM.ipynb",
      "provenance": [],
      "include_colab_link": true
    },
    "kernelspec": {
      "name": "python3",
      "display_name": "Python 3"
    },
    "language_info": {
      "name": "python"
    },
    "accelerator": "GPU"
  },
  "cells": [
    {
      "cell_type": "markdown",
      "metadata": {
        "id": "view-in-github",
        "colab_type": "text"
      },
      "source": [
        "<a href=\"https://colab.research.google.com/github/thessafuzaro/Trabalho_Imagens/blob/main/Cassificacao_Imagens_SVM.ipynb\" target=\"_parent\"><img src=\"https://colab.research.google.com/assets/colab-badge.svg\" alt=\"Open In Colab\"/></a>"
      ]
    },
    {
      "cell_type": "code",
      "metadata": {
        "id": "wnlZ4dQxNdWu"
      },
      "source": [
        "#Segundo Projeto de redes neurais\n",
        "#Processamento de Imagens\n",
        "#Aluna: Thessa Fuzaro Mendes\n",
        "#Data: 03/07/2021"
      ],
      "execution_count": 41,
      "outputs": []
    },
    {
      "cell_type": "code",
      "metadata": {
        "id": "VumF8Fkd4B2M"
      },
      "source": [
        "from matplotlib import pyplot as plt  # para fazer graficos\n",
        "import numpy as np\n",
        "import pandas as pd\n",
        "import cv2  #biblioteca que trabalha com imagens\n",
        "import random\n",
        "import zipfile  #para trabalhar com arquivos zip\n",
        "from sklearn.svm import SVC\n",
        "from sklearn import preprocessing\n",
        "from sklearn.model_selection import train_test_split\n",
        "from sklearn.metrics import classification_report"
      ],
      "execution_count": 42,
      "outputs": []
    },
    {
      "cell_type": "code",
      "metadata": {
        "colab": {
          "base_uri": "https://localhost:8080/"
        },
        "id": "G6zkIELM4FGk",
        "outputId": "ee98c33c-0f8e-4ab7-9ba1-bb62c5beb08e"
      },
      "source": [
        "#clonando o diretório com os arquivos que estão no github\n",
        "!git clone https://github.com/thessafuzaro/Trabalho_Imagens\n",
        "%cd Trabalho_Imagens"
      ],
      "execution_count": 43,
      "outputs": [
        {
          "output_type": "stream",
          "text": [
            "Cloning into 'Trabalho_Imagens'...\n",
            "remote: Enumerating objects: 70, done.\u001b[K\n",
            "remote: Counting objects: 100% (70/70), done.\u001b[K\n",
            "remote: Compressing objects: 100% (68/68), done.\u001b[K\n",
            "remote: Total 70 (delta 30), reused 0 (delta 0), pack-reused 0\u001b[K\n",
            "Unpacking objects: 100% (70/70), done.\n",
            "/content/Trabalho_Imagens/Trabalho_Imagens/Trabalho_Imagens\n"
          ],
          "name": "stdout"
        }
      ]
    },
    {
      "cell_type": "code",
      "metadata": {
        "id": "dsF7ONnt6E3N",
        "colab": {
          "base_uri": "https://localhost:8080/",
          "height": 35
        },
        "outputId": "2d27522c-1c1e-4c7d-c9a5-ca66251c79d7"
      },
      "source": [
        "'''def ynindicator(Y):\n",
        "  N = len(Y)\n",
        "  K = len(set(Y))\n",
        "  I = np.zeros((N, K))\n",
        "  I[np.arange(N), Y] = 1\n",
        "  return I'''"
      ],
      "execution_count": 44,
      "outputs": [
        {
          "output_type": "execute_result",
          "data": {
            "application/vnd.google.colaboratory.intrinsic+json": {
              "type": "string"
            },
            "text/plain": [
              "'def ynindicator(Y):\\n  N = len(Y)\\n  K = len(set(Y))\\n  I = np.zeros((N, K))\\n  I[np.arange(N), Y] = 1\\n  return I'"
            ]
          },
          "metadata": {
            "tags": []
          },
          "execution_count": 44
        }
      ]
    },
    {
      "cell_type": "code",
      "metadata": {
        "id": "PgVpmRi7mRlb"
      },
      "source": [
        "#Extraindo os arquivos zip e salvando na variavel x\n",
        "Arq =['Daisy.zip','Dandelion.zip','Rose.zip','Not_Flower.zip']  #importando os arquivos\n",
        "Img_Size=80\n",
        "img_name=[]  #lista em branco\n",
        "x_gray=[]  \n",
        "x_original = []\n",
        "for FILE in Arq:\n",
        "  file_name = zipfile.ZipFile(FILE, 'r')\n",
        "  file_name.extractall()    #extraindo os arquivos e colocando em uma lista unica com os nomes\n",
        "  with zipfile.ZipFile(FILE, \"r\") as f:\n",
        "      for name in f.namelist():\n",
        "          img_name.append(name)\n",
        "         # print(name)\n",
        "          x_gray.append(cv2.resize(cv2.imread(name, 0),(Img_Size,Img_Size)))"
      ],
      "execution_count": 45,
      "outputs": []
    },
    {
      "cell_type": "code",
      "metadata": {
        "id": "Rw0LeVUxb69_"
      },
      "source": [
        "#Recuperando o nome com 4 primeiras letras\n",
        "y_names = []\n",
        "for yy in img_name:\n",
        "  name = yy[0]+yy[1]+yy[2]+yy[3]\n",
        "  y_names.append(name)\n",
        "  #print(y_names)"
      ],
      "execution_count": 46,
      "outputs": []
    },
    {
      "cell_type": "code",
      "metadata": {
        "id": "kHXoHE64b74V"
      },
      "source": [
        "unique_list = []      #gera uma lista unica \n",
        "for yy in y_names:\n",
        "  if yy not in unique_list:\n",
        "    unique_list.append(yy)"
      ],
      "execution_count": 47,
      "outputs": []
    },
    {
      "cell_type": "code",
      "metadata": {
        "id": "BF9OQntxcC1T"
      },
      "source": [
        "n = len(unique_list)  #separa em classes ao inves de nome aparece o índice referente\n",
        "Y = []\n",
        "for yy in y_names:\n",
        "  for i in range(n):\n",
        "    if(yy == unique_list[i]):\n",
        "      Y.append(i)"
      ],
      "execution_count": 48,
      "outputs": []
    },
    {
      "cell_type": "code",
      "metadata": {
        "id": "_UfEBXxevfc3"
      },
      "source": [
        "X_data=[]\n",
        "for xx in x_gray:\n",
        "  X_data.append(xx.ravel())\n",
        "\n",
        "X = pd.DataFrame(X_data)"
      ],
      "execution_count": 49,
      "outputs": []
    },
    {
      "cell_type": "code",
      "metadata": {
        "id": "WaQGiOZtbsuD"
      },
      "source": [
        "#Separando os dados em 80% de treino e 20% de teste e misturando os dados\n",
        "X_train, X_test, Y_train, Y_test = train_test_split(X,Y, test_size=0.20, shuffle=True, random_state=3)"
      ],
      "execution_count": 50,
      "outputs": []
    },
    {
      "cell_type": "code",
      "metadata": {
        "id": "ddLhpEHIV9L7"
      },
      "source": [
        "scaler_X = preprocessing.MinMaxScaler((-1,1)).fit(X)\n",
        "X_train = scaler_X.transform(X_train)\n",
        "X_test = scaler_X.transform(X_test)"
      ],
      "execution_count": 51,
      "outputs": []
    },
    {
      "cell_type": "code",
      "metadata": {
        "colab": {
          "base_uri": "https://localhost:8080/"
        },
        "id": "iEF7_thUWTV2",
        "outputId": "733ff2b6-5bf7-40eb-8072-38588218a836"
      },
      "source": [
        "model = SVC()\n",
        "model.fit(X_train, Y_train)"
      ],
      "execution_count": 52,
      "outputs": [
        {
          "output_type": "execute_result",
          "data": {
            "text/plain": [
              "SVC(C=1.0, break_ties=False, cache_size=200, class_weight=None, coef0=0.0,\n",
              "    decision_function_shape='ovr', degree=3, gamma='scale', kernel='rbf',\n",
              "    max_iter=-1, probability=False, random_state=None, shrinking=True,\n",
              "    tol=0.001, verbose=False)"
            ]
          },
          "metadata": {
            "tags": []
          },
          "execution_count": 52
        }
      ]
    },
    {
      "cell_type": "code",
      "metadata": {
        "id": "1Um1iQ6FXnkx"
      },
      "source": [
        "Y_calc_train=model.predict(X_train)\n",
        "Y_calc_test=model.predict(X_test)"
      ],
      "execution_count": 53,
      "outputs": []
    },
    {
      "cell_type": "code",
      "metadata": {
        "colab": {
          "base_uri": "https://localhost:8080/"
        },
        "id": "7KCEatPYXzkh",
        "outputId": "9758a31e-f72b-48b4-b74a-a086f8443c39"
      },
      "source": [
        "df = pd.DataFrame({'True':Y_train, 'Calc':Y_calc_train})\n",
        "print(pd.crosstab(df['True'],df['Calc']))"
      ],
      "execution_count": 54,
      "outputs": [
        {
          "output_type": "stream",
          "text": [
            "Calc    0    1    2   3\n",
            "True                   \n",
            "0     292   37   41   0\n",
            "1      13  300   44   0\n",
            "2      19   31  351   0\n",
            "3       7   21   49  27\n"
          ],
          "name": "stdout"
        }
      ]
    },
    {
      "cell_type": "code",
      "metadata": {
        "colab": {
          "base_uri": "https://localhost:8080/"
        },
        "id": "xLDgnRdkYYcN",
        "outputId": "5d651de6-d620-42f4-ca78-955b4468d4cd"
      },
      "source": [
        "df = pd.DataFrame({'True':Y_test, 'Calc':Y_calc_test})\n",
        "print(pd.crosstab(df['True'],df['Calc']))"
      ],
      "execution_count": 55,
      "outputs": [
        {
          "output_type": "stream",
          "text": [
            "Calc   0   1   2\n",
            "True            \n",
            "0     49  13  31\n",
            "1     23  38  23\n",
            "2     21  34  47\n",
            "3      3  10  16\n"
          ],
          "name": "stdout"
        }
      ]
    },
    {
      "cell_type": "code",
      "metadata": {
        "colab": {
          "base_uri": "https://localhost:8080/",
          "height": 203
        },
        "id": "qRR9zKMHY_kd",
        "outputId": "942e8cff-581c-46e8-ae5a-16e630bd7988"
      },
      "source": [
        "Y_true = Y_test\n",
        "Y_pred = Y_calc_test\n",
        "Title = ['Daisy','Dandelion','Rose','Not_Flower']\n",
        "print(classification_report(Y_true, Y_pred, Title=Title))"
      ],
      "execution_count": 56,
      "outputs": [
        {
          "output_type": "error",
          "ename": "TypeError",
          "evalue": "ignored",
          "traceback": [
            "\u001b[0;31m---------------------------------------------------------------------------\u001b[0m",
            "\u001b[0;31mTypeError\u001b[0m                                 Traceback (most recent call last)",
            "\u001b[0;32m<ipython-input-56-2c1e1bf3e262>\u001b[0m in \u001b[0;36m<module>\u001b[0;34m()\u001b[0m\n\u001b[1;32m      2\u001b[0m \u001b[0mY_pred\u001b[0m \u001b[0;34m=\u001b[0m \u001b[0mY_calc_test\u001b[0m\u001b[0;34m\u001b[0m\u001b[0;34m\u001b[0m\u001b[0m\n\u001b[1;32m      3\u001b[0m \u001b[0mTitle\u001b[0m \u001b[0;34m=\u001b[0m \u001b[0;34m[\u001b[0m\u001b[0;34m'Daisy'\u001b[0m\u001b[0;34m,\u001b[0m\u001b[0;34m'Dandelion'\u001b[0m\u001b[0;34m,\u001b[0m\u001b[0;34m'Rose'\u001b[0m\u001b[0;34m,\u001b[0m\u001b[0;34m'Not_Flower'\u001b[0m\u001b[0;34m]\u001b[0m\u001b[0;34m\u001b[0m\u001b[0;34m\u001b[0m\u001b[0m\n\u001b[0;32m----> 4\u001b[0;31m \u001b[0mprint\u001b[0m\u001b[0;34m(\u001b[0m\u001b[0mclassification_report\u001b[0m\u001b[0;34m(\u001b[0m\u001b[0mY_true\u001b[0m\u001b[0;34m,\u001b[0m \u001b[0mY_pred\u001b[0m\u001b[0;34m,\u001b[0m \u001b[0mTitle\u001b[0m\u001b[0;34m=\u001b[0m\u001b[0mTitle\u001b[0m\u001b[0;34m)\u001b[0m\u001b[0;34m)\u001b[0m\u001b[0;34m\u001b[0m\u001b[0;34m\u001b[0m\u001b[0m\n\u001b[0m",
            "\u001b[0;31mTypeError\u001b[0m: classification_report() got an unexpected keyword argument 'Title'"
          ]
        }
      ]
    },
    {
      "cell_type": "code",
      "metadata": {
        "id": "bt-4wXFeWeKg"
      },
      "source": [
        "print(wtwt)"
      ],
      "execution_count": null,
      "outputs": []
    },
    {
      "cell_type": "code",
      "metadata": {
        "id": "H3NeNX-PvtRm"
      },
      "source": [
        "X_train = []\n",
        "Y_train = []\n",
        "for II in Ind_train:\n",
        "  name = img_name[II]\n",
        "  X_train.append(cv2.resize(cv2.imread(name),(Img_Size,Img_Size)))\n",
        "  Y_train.append(y[II])"
      ],
      "execution_count": null,
      "outputs": []
    },
    {
      "cell_type": "code",
      "metadata": {
        "id": "vHeC2Eumyu6N"
      },
      "source": [
        "X_test= []\n",
        "Y_test = []\n",
        "for II in Ind_test:\n",
        "  name = img_name[II]\n",
        "  X_test.append(cv2.resize(cv2.imread(name),(Img_Size,Img_Size)))\n",
        "  Y_test.append(y[II])"
      ],
      "execution_count": null,
      "outputs": []
    },
    {
      "cell_type": "code",
      "metadata": {
        "id": "8-4lC51WoKbF"
      },
      "source": [
        "# Imagens de treino em que aparece o numero relacionado ao tipo de flor (0=daisy; 1=dandelion; 2=rose; 3= not_flower)\n",
        "num,cols,dim = np.array(X_train[0]).shape\n",
        "plt.figure(figsize=(16,16))\n",
        "for i in range(16):\n",
        "  ax = plt.subplot(4, 4, i + 1)\n",
        "  kk = int(random.randrange(num))  \n",
        "  plt.imshow(X_train[kk])\n",
        "  plt.title(Y_train[kk])\n",
        "  plt.axis(\"off\")"
      ],
      "execution_count": null,
      "outputs": []
    },
    {
      "cell_type": "code",
      "metadata": {
        "id": "LhDga528oNi1"
      },
      "source": [
        "# Imagens de teste\n",
        "num,cols,dim = np.array(X_test[0]).shape\n",
        "plt.figure(figsize=(16, 16))\n",
        "for i in range(16):\n",
        "  ax = plt.subplot(4, 4, i + 1)\n",
        "  kk = int(random.randrange(num))\n",
        "  plt.imshow(X_test[kk])\n",
        "  plt.title(Y_test[kk])\n",
        "  plt.axis(\"off\")"
      ],
      "execution_count": null,
      "outputs": []
    },
    {
      "cell_type": "code",
      "metadata": {
        "id": "T7dNqtw269ks"
      },
      "source": [
        "X_train = np.array(X_train)\n",
        "Y_train = np.array(Y_train)\n",
        "K = len(set(Y_train))\n",
        "X_train = X_train.reshape(-1, Img_Size, Img_Size, 3) / 255.0\n",
        "Y_train = Y_train.astype(np.int32)\n",
        "#Y_train = Y_train.reshape(1,-1)\n",
        "Y_train = ynindicator(Y_train)\n",
        "\n",
        "X_test = np.array(X_test )\n",
        "Y_test = np.array(Y_test)\n",
        "X_test = X_test.reshape(-1, Img_Size, Img_Size, 3) / 255.0\n",
        "Y_test = Y_test.astype(np.int32)\n",
        "#Y_test = Y_test.reshape(1,-1)\n",
        "Y_test = ynindicator(Y_test)"
      ],
      "execution_count": null,
      "outputs": []
    },
    {
      "cell_type": "code",
      "metadata": {
        "id": "9-rezskM6MZc"
      },
      "source": [
        "\n",
        "# the model will be a sequence of layers\n",
        "\n",
        "model = Sequential()\n",
        "\n",
        "\n",
        "# make the CNN\n",
        "# model.add(Input(shape=(28, 28, 1)))\n",
        "model.add(Conv2D(input_shape=(Img_Size, Img_Size, 3), filters=32, kernel_size=(3, 3)))\n",
        "model.add(BatchNormalization())\n",
        "model.add(Activation('relu'))\n",
        "model.add(MaxPooling2D())\n",
        "\n",
        "model.add(Conv2D(filters=64, kernel_size=(3, 3)))\n",
        "model.add(BatchNormalization())\n",
        "model.add(Activation('relu'))\n",
        "model.add(MaxPooling2D())\n",
        "\n",
        "model.add(Conv2D(filters=128, kernel_size=(3, 3)))\n",
        "model.add(BatchNormalization())\n",
        "model.add(Activation('relu'))\n",
        "model.add(MaxPooling2D())\n",
        "\n",
        "model.add(Flatten())\n",
        "model.add(Dense(units=200))\n",
        "model.add(Activation('relu'))\n",
        "model.add(Dropout(0.2))\n",
        "model.add(Dense(units=100))\n",
        "model.add(Activation('relu'))\n",
        "model.add(Dense(units=K))\n",
        "model.add(Activation('softmax'))\n",
        "\n",
        "\n",
        "# list of losses: https://keras.io/losses/\n",
        "# list of optimizers: https://keras.io/optimizers/\n",
        "# list of metrics: https://keras.io/metrics/\n",
        "model.compile(\n",
        "  loss='categorical_crossentropy',\n",
        "  optimizer='adam',\n",
        "  metrics=['accuracy']\n",
        ")"
      ],
      "execution_count": null,
      "outputs": []
    },
    {
      "cell_type": "code",
      "metadata": {
        "id": "NEy9670uvvDF"
      },
      "source": [
        "# gives us back a <keras.callbacks.History object at 0x112e61a90>\n",
        "r = model.fit(X_train, Y_train, validation_data = (X_test,Y_test), epochs=15, batch_size=32)\n",
        "print(\"Returned:\", r)"
      ],
      "execution_count": null,
      "outputs": []
    },
    {
      "cell_type": "code",
      "metadata": {
        "id": "XjMPIrnd94k7"
      },
      "source": [
        "# plot some data\n",
        "plt.plot(r.history['accuracy'], label='acc')\n",
        "plt.plot(r.history['val_accuracy'], label='val_acc')\n",
        "plt.legend()\n",
        "plt.show()"
      ],
      "execution_count": null,
      "outputs": []
    },
    {
      "cell_type": "code",
      "metadata": {
        "id": "olANLcRWCVOm"
      },
      "source": [
        "# plot some data\n",
        "plt.plot(r.history['loss'], label='loss')\n",
        "plt.plot(r.history['val_loss'], label='val_loss')\n",
        "plt.legend()\n",
        "plt.show()"
      ],
      "execution_count": null,
      "outputs": []
    },
    {
      "cell_type": "code",
      "metadata": {
        "id": "gWd0Z89VD22q"
      },
      "source": [
        ""
      ],
      "execution_count": null,
      "outputs": []
    }
  ]
}