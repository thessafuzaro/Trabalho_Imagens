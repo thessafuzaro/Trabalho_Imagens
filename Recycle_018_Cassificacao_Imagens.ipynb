{
  "nbformat": 4,
  "nbformat_minor": 0,
  "metadata": {
    "colab": {
      "name": "Recycle_018_Cassificacao_Imagens.ipynb",
      "provenance": [],
      "include_colab_link": true
    },
    "kernelspec": {
      "name": "python3",
      "display_name": "Python 3"
    },
    "language_info": {
      "name": "python"
    },
    "accelerator": "GPU"
  },
  "cells": [
    {
      "cell_type": "markdown",
      "metadata": {
        "id": "view-in-github",
        "colab_type": "text"
      },
      "source": [
        "<a href=\"https://colab.research.google.com/github/thessafuzaro/Trabalho_Imagens/blob/main/Recycle_018_Cassificacao_Imagens.ipynb\" target=\"_parent\"><img src=\"https://colab.research.google.com/assets/colab-badge.svg\" alt=\"Open In Colab\"/></a>"
      ]
    },
    {
      "cell_type": "code",
      "metadata": {
        "id": "VumF8Fkd4B2M"
      },
      "source": [
        "from matplotlib import pyplot as plt\n",
        "import numpy as np\n",
        "import pandas as pd\n",
        "import cv2\n",
        "import random\n",
        "import zipfile\n",
        "from sklearn.model_selection import train_test_split"
      ],
      "execution_count": 44,
      "outputs": []
    },
    {
      "cell_type": "code",
      "metadata": {
        "id": "zOTOrIF25-ru"
      },
      "source": [
        "from keras.models import Sequential\n",
        "from keras.layers import Dense, Activation, Conv2D, MaxPooling2D, Flatten, Dropout, BatchNormalization"
      ],
      "execution_count": 45,
      "outputs": []
    },
    {
      "cell_type": "code",
      "metadata": {
        "colab": {
          "base_uri": "https://localhost:8080/"
        },
        "id": "G6zkIELM4FGk",
        "outputId": "a763100c-1849-411b-c207-04d11d0166b3"
      },
      "source": [
        "#clonando os arquivos \n",
        "!git clone https://github.com/thessafuzaro/Trabalho_Imagens\n",
        "%cd Trabalho_Imagens"
      ],
      "execution_count": 46,
      "outputs": [
        {
          "output_type": "stream",
          "text": [
            "Cloning into 'Trabalho_Imagens'...\n",
            "remote: Enumerating objects: 61, done.\u001b[K\n",
            "remote: Counting objects: 100% (61/61), done.\u001b[K\n",
            "remote: Compressing objects: 100% (59/59), done.\u001b[K\n",
            "remote: Total 61 (delta 26), reused 0 (delta 0), pack-reused 0\u001b[K\n",
            "Unpacking objects: 100% (61/61), done.\n",
            "/content/Trabalho_Imagens/Trabalho_Imagens/Trabalho_Imagens/Trabalho_Imagens\n"
          ],
          "name": "stdout"
        }
      ]
    },
    {
      "cell_type": "code",
      "metadata": {
        "id": "dsF7ONnt6E3N"
      },
      "source": [
        "def ynindicator(Y):\n",
        "  N = len(Y)\n",
        "  K = len(set(Y))\n",
        "  I = np.zeros((N, K))\n",
        "  I[np.arange(N), Y] = 1\n",
        "  return I"
      ],
      "execution_count": 47,
      "outputs": []
    },
    {
      "cell_type": "code",
      "metadata": {
        "id": "PgVpmRi7mRlb"
      },
      "source": [
        "# all images are load in variable x...\n",
        "Arq =['Daisy.zip','Dandelion.zip','Rose.zip','Not_Flower.zip']\n",
        "\n",
        "img_name=[]\n",
        "x_gray=[]\n",
        "x_original = []\n",
        "for FILE in Arq:\n",
        "  file_name = zipfile.ZipFile(FILE, 'r')\n",
        "  file_name.extractall()\n",
        "  with zipfile.ZipFile(FILE, \"r\") as f:\n",
        "      for name in f.namelist():\n",
        "          img_name.append(name)"
      ],
      "execution_count": 48,
      "outputs": []
    },
    {
      "cell_type": "code",
      "metadata": {
        "id": "Rw0LeVUxb69_"
      },
      "source": [
        "y_names = []\n",
        "for yy in img_name:\n",
        "  name = yy[0]+yy[1]+yy[2]\n",
        "  y_names.append(name)"
      ],
      "execution_count": 49,
      "outputs": []
    },
    {
      "cell_type": "code",
      "metadata": {
        "id": "kHXoHE64b74V"
      },
      "source": [
        "unique_list = []    \n",
        "for yy in y_names:\n",
        "  if yy not in unique_list:\n",
        "    unique_list.append(yy)"
      ],
      "execution_count": 50,
      "outputs": []
    },
    {
      "cell_type": "code",
      "metadata": {
        "id": "BF9OQntxcC1T"
      },
      "source": [
        "n = len(unique_list)\n",
        "y = []\n",
        "for yy in y_names:\n",
        "  for i in range(n):\n",
        "    if(yy == unique_list[i]):\n",
        "      y.append(i)"
      ],
      "execution_count": 51,
      "outputs": []
    },
    {
      "cell_type": "code",
      "metadata": {
        "id": "_UfEBXxevfc3"
      },
      "source": [
        "DATASET_SIZE = len(y_names)\n",
        "Ind = range(DATASET_SIZE)\n",
        "Img_Size = 80\n",
        "num_range = DATASET_SIZE"
      ],
      "execution_count": 53,
      "outputs": []
    },
    {
      "cell_type": "code",
      "metadata": {
        "id": "WaQGiOZtbsuD"
      },
      "source": [
        "Ind_train, Ind_test= train_test_split(Ind,test_size=0.20, shuffle=True, random_state=3)"
      ],
      "execution_count": 58,
      "outputs": []
    },
    {
      "cell_type": "code",
      "metadata": {
        "id": "H3NeNX-PvtRm"
      },
      "source": [
        "X_train = []\n",
        "Y_train = []\n",
        "for II in Ind_train:\n",
        "  name = img_name[II]\n",
        "  X_train.append(cv2.resize(cv2.imread(name),(Img_Size,Img_Size)))\n",
        "  Y_train.append(y[II])"
      ],
      "execution_count": 59,
      "outputs": []
    },
    {
      "cell_type": "code",
      "metadata": {
        "id": "vHeC2Eumyu6N"
      },
      "source": [
        "X_test= []\n",
        "Y_test = []\n",
        "for II in Ind_test:\n",
        "  name = img_name[II]\n",
        "  X_test.append(cv2.resize(cv2.imread(name),(Img_Size,Img_Size)))\n",
        "  Y_test.append(y[II])"
      ],
      "execution_count": 60,
      "outputs": []
    },
    {
      "cell_type": "code",
      "metadata": {
        "id": "T7dNqtw269ks"
      },
      "source": [
        "X_train = np.array(X_train)\n",
        "Y_train = np.array(Y_train)\n",
        "K = len(set(Y_train))\n",
        "X_train = X_train.reshape(-1, Img_Size, Img_Size, 3) / 255.0\n",
        "Y_train = Y_train.astype(np.int32)\n",
        "#Y_train = Y_train.reshape(1,-1)\n",
        "Y_train = ynindicator(Y_train)\n",
        "\n",
        "X_test = np.array(X_test )\n",
        "Y_test = np.array(Y_test)\n",
        "X_test = X_test.reshape(-1, Img_Size, Img_Size, 3) / 255.0\n",
        "Y_test = Y_test.astype(np.int32)\n",
        "#Y_test = Y_test.reshape(1,-1)\n",
        "Y_test = ynindicator(Y_test)"
      ],
      "execution_count": 61,
      "outputs": []
    },
    {
      "cell_type": "code",
      "metadata": {
        "id": "9-rezskM6MZc"
      },
      "source": [
        "\n",
        "# the model will be a sequence of layers\n",
        "\n",
        "model = Sequential()\n",
        "\n",
        "\n",
        "# make the CNN\n",
        "# model.add(Input(shape=(28, 28, 1)))\n",
        "model.add(Conv2D(input_shape=(Img_Size, Img_Size, 3), filters=32, kernel_size=(3, 3)))\n",
        "model.add(BatchNormalization())\n",
        "model.add(Activation('relu'))\n",
        "model.add(MaxPooling2D())\n",
        "\n",
        "model.add(Conv2D(filters=64, kernel_size=(3, 3)))\n",
        "model.add(BatchNormalization())\n",
        "model.add(Activation('relu'))\n",
        "model.add(MaxPooling2D())\n",
        "\n",
        "model.add(Conv2D(filters=128, kernel_size=(3, 3)))\n",
        "model.add(BatchNormalization())\n",
        "model.add(Activation('relu'))\n",
        "model.add(MaxPooling2D())\n",
        "\n",
        "model.add(Flatten())\n",
        "model.add(Dense(units=200))\n",
        "model.add(Activation('relu'))\n",
        "model.add(Dropout(0.2))\n",
        "model.add(Dense(units=100))\n",
        "model.add(Activation('relu'))\n",
        "model.add(Dense(units=K))\n",
        "model.add(Activation('softmax'))\n",
        "\n",
        "\n",
        "# list of losses: https://keras.io/losses/\n",
        "# list of optimizers: https://keras.io/optimizers/\n",
        "# list of metrics: https://keras.io/metrics/\n",
        "model.compile(\n",
        "  loss='categorical_crossentropy',\n",
        "  optimizer='adam',\n",
        "  metrics=['accuracy']\n",
        ")"
      ],
      "execution_count": 62,
      "outputs": []
    },
    {
      "cell_type": "code",
      "metadata": {
        "id": "NEy9670uvvDF",
        "outputId": "8e725ad2-e9e7-4f5c-bbb8-df661846d57c",
        "colab": {
          "base_uri": "https://localhost:8080/"
        }
      },
      "source": [
        "# gives us back a <keras.callbacks.History object at 0x112e61a90>\n",
        "r = model.fit(X_train, Y_train, validation_data = (X_test,Y_test), epochs=15, batch_size=32)\n",
        "print(\"Returned:\", r)"
      ],
      "execution_count": 63,
      "outputs": [
        {
          "output_type": "stream",
          "text": [
            "Epoch 1/15\n",
            "39/39 [==============================] - 2s 30ms/step - loss: 3.0831 - accuracy: 0.3974 - val_loss: 1.2728 - val_accuracy: 0.3961\n",
            "Epoch 2/15\n",
            "39/39 [==============================] - 1s 13ms/step - loss: 1.1276 - accuracy: 0.5419 - val_loss: 1.3863 - val_accuracy: 0.3506\n",
            "Epoch 3/15\n",
            "39/39 [==============================] - 1s 14ms/step - loss: 0.9680 - accuracy: 0.6302 - val_loss: 1.2887 - val_accuracy: 0.3766\n",
            "Epoch 4/15\n",
            "39/39 [==============================] - 1s 14ms/step - loss: 0.8853 - accuracy: 0.6335 - val_loss: 1.2874 - val_accuracy: 0.3896\n",
            "Epoch 5/15\n",
            "39/39 [==============================] - 1s 14ms/step - loss: 0.8741 - accuracy: 0.6581 - val_loss: 1.5851 - val_accuracy: 0.3766\n",
            "Epoch 6/15\n",
            "39/39 [==============================] - 1s 14ms/step - loss: 0.8387 - accuracy: 0.6777 - val_loss: 1.2254 - val_accuracy: 0.4351\n",
            "Epoch 7/15\n",
            "39/39 [==============================] - 1s 14ms/step - loss: 0.7691 - accuracy: 0.6878 - val_loss: 1.0972 - val_accuracy: 0.4773\n",
            "Epoch 8/15\n",
            "39/39 [==============================] - 1s 13ms/step - loss: 0.7159 - accuracy: 0.7352 - val_loss: 1.3205 - val_accuracy: 0.4091\n",
            "Epoch 9/15\n",
            "39/39 [==============================] - 1s 14ms/step - loss: 0.6823 - accuracy: 0.7299 - val_loss: 1.0121 - val_accuracy: 0.5422\n",
            "Epoch 10/15\n",
            "39/39 [==============================] - 1s 13ms/step - loss: 0.6141 - accuracy: 0.7686 - val_loss: 0.8669 - val_accuracy: 0.6591\n",
            "Epoch 11/15\n",
            "39/39 [==============================] - 1s 13ms/step - loss: 0.5768 - accuracy: 0.7754 - val_loss: 0.9583 - val_accuracy: 0.6104\n",
            "Epoch 12/15\n",
            "39/39 [==============================] - 1s 14ms/step - loss: 0.5568 - accuracy: 0.7894 - val_loss: 0.7810 - val_accuracy: 0.7143\n",
            "Epoch 13/15\n",
            "39/39 [==============================] - 1s 14ms/step - loss: 0.5256 - accuracy: 0.7956 - val_loss: 0.7477 - val_accuracy: 0.7305\n",
            "Epoch 14/15\n",
            "39/39 [==============================] - 1s 13ms/step - loss: 0.4958 - accuracy: 0.8138 - val_loss: 1.2337 - val_accuracy: 0.6104\n",
            "Epoch 15/15\n",
            "39/39 [==============================] - 1s 14ms/step - loss: 0.4019 - accuracy: 0.8430 - val_loss: 0.7734 - val_accuracy: 0.7208\n",
            "Returned: <keras.callbacks.History object at 0x7fd9e8be8f50>\n"
          ],
          "name": "stdout"
        }
      ]
    },
    {
      "cell_type": "code",
      "metadata": {
        "id": "XjMPIrnd94k7",
        "outputId": "395e07c3-e867-4ad0-b99e-385988e8f6e5",
        "colab": {
          "base_uri": "https://localhost:8080/",
          "height": 264
        }
      },
      "source": [
        "# plot some data\n",
        "plt.plot(r.history['accuracy'], label='acc')\n",
        "plt.plot(r.history['val_accuracy'], label='val_acc')\n",
        "plt.legend()\n",
        "plt.show()"
      ],
      "execution_count": 64,
      "outputs": [
        {
          "output_type": "display_data",
          "data": {
            "image/png": "[encoded data removed]",
            "text/plain": [
              "<Figure size 432x288 with 1 Axes>"
            ]
          },
          "metadata": {
            "tags": [],
            "needs_background": "light"
          }
        }
      ]
    },
    {
      "cell_type": "code",
      "metadata": {
        "id": "olANLcRWCVOm",
        "outputId": "030108a6-7073-4c6d-81dd-58d95c2410b5",
        "colab": {
          "base_uri": "https://localhost:8080/",
          "height": 264
        }
      },
      "source": [
        "# plot some data\n",
        "plt.plot(r.history['loss'], label='loss')\n",
        "plt.plot(r.history['val_loss'], label='val_loss')\n",
        "plt.legend()\n",
        "plt.show()"
      ],
      "execution_count": 65,
      "outputs": [
        {
          "output_type": "display_data",
          "data": {
            "image/png": "[encoded data removed]",
            "text/plain": [
              "<Figure size 432x288 with 1 Axes>"
            ]
          },
          "metadata": {
            "tags": [],
            "needs_background": "light"
          }
        }
      ]
    },
    {
      "cell_type": "code",
      "metadata": {
        "id": "gWd0Z89VD22q"
      },
      "source": [
        ""
      ],
      "execution_count": null,
      "outputs": []
    }
  ]
}