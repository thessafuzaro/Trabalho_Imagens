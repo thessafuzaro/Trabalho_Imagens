{
  "nbformat": 4,
  "nbformat_minor": 0,
  "metadata": {
    "colab": {
      "name": "Classificacao_Imagem_tensor_flow.ipynb",
      "provenance": [],
      "include_colab_link": true
    },
    "kernelspec": {
      "name": "python3",
      "display_name": "Python 3"
    },
    "language_info": {
      "name": "python"
    }
  },
  "cells": [
    {
      "cell_type": "markdown",
      "metadata": {
        "id": "view-in-github",
        "colab_type": "text"
      },
      "source": [
        "<a href=\"https://colab.research.google.com/github/thessafuzaro/Trabalho_Imagens/blob/main/Classificacao_Imagem_tensor_flow.ipynb\" target=\"_parent\"><img src=\"https://colab.research.google.com/assets/colab-badge.svg\" alt=\"Open In Colab\"/></a>"
      ]
    },
    {
      "cell_type": "code",
      "metadata": {
        "id": "0L4CGJ6rtQiI"
      },
      "source": [
        "#Segundo Projeto de redes neurais\n",
        "#Processamento de Imagens\n",
        "#Aluna: Thessa Fuzaro Mendes\n",
        "#Data: 06/07/2021"
      ],
      "execution_count": null,
      "outputs": []
    },
    {
      "cell_type": "code",
      "metadata": {
        "id": "l4Q1vaTWtUk7"
      },
      "source": [
        "from matplotlib import pyplot as plt  # para fazer graficos\n",
        "import numpy as np\n",
        "import pandas as pd\n",
        "import cv2  #biblioteca que trabalha com imagens\n",
        "import random\n",
        "import zipfile  #para trabalhar com arquivos zip\n",
        "from sklearn import preprocessing\n",
        "from sklearn.model_selection import train_test_split\n",
        "from sklearn.metrics import classification_report\n",
        "from keras.models import Sequential\n",
        "from keras.layers import Dense, Activation, Conv2D, MaxPooling2D, Flatten, Dropout, BatchNormalization"
      ],
      "execution_count": null,
      "outputs": []
    },
    {
      "cell_type": "code",
      "metadata": {
        "colab": {
          "base_uri": "https://localhost:8080/"
        },
        "id": "HuMy717xtDJB",
        "outputId": "abccd74d-8d9a-449a-d97e-940d126f839a"
      },
      "source": [
        "#clonando o diretório com os arquivos que estão no github\n",
        "!git clone https://github.com/thessafuzaro/Trabalho_Imagens\n",
        "%cd Trabalho_Imagens"
      ],
      "execution_count": null,
      "outputs": [
        {
          "output_type": "stream",
          "text": [
            "fatal: destination path 'ANN_2021_01' already exists and is not an empty directory.\n",
            "/content/ANN_2021_01\n"
          ],
          "name": "stdout"
        }
      ]
    },
    {
      "cell_type": "code",
      "metadata": {
        "id": "8-I1ibpHtHpR"
      },
      "source": [
        "#Extraindo os arquivos zip e salvando na variavel x\n",
        "Arq =['Daisy.zip','Dandelion.zip','Rose.zip','Not_Flower.zip']  #importando os arquivos\n",
        "Image_Size=80\n",
        "Image_Name=[]  #lista em branco\n",
        "X_Gray=[]  \n",
        "X_Original = []\n",
        "for FILE in Arq:\n",
        "  file_name = zipfile.ZipFile(FILE, 'r')\n",
        "  file_name.extractall()    #extraindo os arquivos e colocando em uma lista unica com os nomes\n",
        "  with zipfile.ZipFile(FILE, \"r\") as f:\n",
        "      for Name in f.namelist():\n",
        "          Image_Name.append(Name)\n",
        "         # print(name) \n",
        "          X_Gray.append(cv2.resize(cv2.imread(Name, 0),(Image_Size,Image_Size))) #passando a imagem para preto e branco e redimensionando"
      ],
      "execution_count": null,
      "outputs": []
    },
    {
      "cell_type": "code",
      "metadata": {
        "id": "xJr_DCOYtK5E"
      },
      "source": [
        "#Recuperando o nome com 4 primeiras letras\n",
        "Y_Names = []\n",
        "for yy in Image_Name:\n",
        "  Name = yy[0]+yy[1]+yy[2]+yy[3]\n",
        "  Y_Names.append(Name)\n",
        "  #print(Y_Names)"
      ],
      "execution_count": null,
      "outputs": []
    },
    {
      "cell_type": "code",
      "metadata": {
        "id": "JRALBwFnukGO"
      },
      "source": [
        "#Plotando algumas imagens em preto e branco com seus respectivos nomes (4 primeiras letras)\n",
        "num = len(Y_Names)\n",
        "plt.figure(figsize=(16,16))\n",
        "for i in range (16) :\n",
        "  ax = plt.subplot(4,4,i+1)\n",
        "  kk = random.randrange(num)\n",
        "  plt.imshow(X_Gray[kk], cmap='gray')\n",
        "  plt.title(Y_Names[kk])\n",
        "  plt.axis(\"off\")"
      ],
      "execution_count": null,
      "outputs": []
    },
    {
      "cell_type": "code",
      "metadata": {
        "id": "EZR38AI8tOTB"
      },
      "source": [
        "Unique_List = []      #gera uma lista unica \n",
        "for yy in Y_Names:\n",
        "  if yy not in Unique_List:\n",
        "    Unique_List.append(yy)"
      ],
      "execution_count": null,
      "outputs": []
    },
    {
      "cell_type": "code",
      "metadata": {
        "id": "ortNZOU3tTRQ"
      },
      "source": [
        "n = len(Unique_List)  #separa em classes ao inves de nome aparece o índice referente\n",
        "Y = []\n",
        "for yy in Y_Names:\n",
        "  for i in range(n):\n",
        "    if(yy == Unique_List[i]):\n",
        "      Y.append(i)"
      ],
      "execution_count": null,
      "outputs": []
    },
    {
      "cell_type": "code",
      "metadata": {
        "id": "eLd-rl7OutQd"
      },
      "source": [
        "Unique_List #mostrandoa lista unica"
      ],
      "execution_count": null,
      "outputs": []
    },
    {
      "cell_type": "code",
      "metadata": {
        "id": "KG48mEHytcBU"
      },
      "source": [
        "#Indice com o tamanho de todas as fotos\n",
        "DATASET_SIZE = len(Y_Names)\n",
        "Index = range(DATASET_SIZE)"
      ],
      "execution_count": null,
      "outputs": []
    },
    {
      "cell_type": "code",
      "metadata": {
        "id": "H3rsBchytc7s"
      },
      "source": [
        "Index_Train, Index_Test= train_test_split(Index,test_size=0.20, shuffle=True, random_state=3)"
      ],
      "execution_count": null,
      "outputs": []
    },
    {
      "cell_type": "code",
      "metadata": {
        "id": "IP4ExNfptf4b"
      },
      "source": [
        "X_Train = []\n",
        "Y_Train = []\n",
        "for II in Index_Train:\n",
        "  Name = Image_Name[II]\n",
        "  X_Train.append(cv2.resize(cv2.imread(Name,0),(Image_Size,Image_Size)))\n",
        "  Y_train.append(y[II])"
      ],
      "execution_count": null,
      "outputs": []
    },
    {
      "cell_type": "code",
      "metadata": {
        "id": "_7tKm1Atkllk"
      },
      "source": [
        "X_test = []\n",
        "Y_test = []\n",
        "for II in Ind_test:\n",
        "  name = img_name[II]\n",
        "  X_Test.append(cv2.resize(cv2.imread(name,0),(Img_Size,Img_Size)))\n",
        "  Y_Test.append(Y[II])"
      ],
      "execution_count": null,
      "outputs": []
    },
    {
      "cell_type": "code",
      "metadata": {
        "id": "l_t3Zcgqsiwc"
      },
      "source": [
        "# helper\n",
        "def ynindicator(Y):\n",
        "  N = len(Y)\n",
        "  K = len(set(Y))\n",
        "  I = np.zeros((N, K))\n",
        "  I[np.arange(N), Y] = 1\n",
        "  return I\n",
        "\n",
        "X_train = np.array(X_train)\n",
        "Y_train = np.array(Y_train)\n",
        "K = len(set(Y_train))\n",
        "\n",
        "X_train = X_train.reshape(-1, Img_Size, Img_Size, 1) / 255.0\n",
        "Y_train = Y_train.astype(np.int32)\n",
        "Y_train = ynindicator(Y_train)\n",
        "\n",
        "X_test = np.array(X_test )\n",
        "Y_test = np.array(Y_test)\n",
        "X_test = X_test.reshape(-1, Img_Size, Img_Size, 1) / 255.0\n",
        "Y_test = Y_test.astype(np.int32)\n",
        "Y_test = ynindicator(Y_test)\n",
        "\n",
        "# the model will be a sequence of layers\n",
        "\n",
        "model = Sequential()\n",
        "\n",
        "\n",
        "# make the CNN\n",
        "# model.add(Input(shape=(28, 28, 1)))\n",
        "model.add(Conv2D(input_shape=(Img_Size, Img_Size, 1), filters=32, kernel_size=(3, 3)))\n",
        "model.add(BatchNormalization())\n",
        "model.add(Activation('relu'))\n",
        "model.add(MaxPooling2D())\n",
        "\n",
        "model.add(Conv2D(filters=64, kernel_size=(3, 3)))\n",
        "model.add(BatchNormalization())\n",
        "model.add(Activation('relu'))\n",
        "model.add(MaxPooling2D())\n",
        "\n",
        "model.add(Conv2D(filters=128, kernel_size=(3, 3)))\n",
        "model.add(BatchNormalization())\n",
        "model.add(Activation('relu'))\n",
        "model.add(MaxPooling2D())\n",
        "\n",
        "model.add(Flatten())\n",
        "model.add(Dense(units=300))\n",
        "model.add(Activation('relu'))\n",
        "model.add(Dropout(0.2))\n",
        "model.add(Dense(units=K))\n",
        "model.add(Activation('softmax'))\n",
        "\n",
        "\n",
        "# list of losses: https://keras.io/losses/\n",
        "# list of optimizers: https://keras.io/optimizers/\n",
        "# list of metrics: https://keras.io/metrics/\n",
        "model.compile(\n",
        "  loss='categorical_crossentropy',\n",
        "  optimizer='adam',\n",
        "  metrics=['accuracy']\n",
        ")\n",
        "\n"
      ],
      "execution_count": null,
      "outputs": []
    },
    {
      "cell_type": "code",
      "metadata": {
        "colab": {
          "base_uri": "https://localhost:8080/"
        },
        "id": "jdk4mQxIvhRN",
        "outputId": "f90e791a-8e76-43d2-f182-44eb1a4d6d7e"
      },
      "source": [
        "# gives us back a <keras.callbacks.History object at 0x112e61a90>\n",
        "r = model.fit(X_train, Y_train, epochs=15, batch_size=32)\n",
        "print(\"Returned:\", r)\n"
      ],
      "execution_count": null,
      "outputs": [
        {
          "output_type": "stream",
          "text": [
            "Epoch 1/15\n",
            "17/17 [==============================] - 21s 46ms/step - loss: 1.7880 - accuracy: 0.2769\n",
            "Epoch 2/15\n",
            "17/17 [==============================] - 1s 46ms/step - loss: 1.2872 - accuracy: 0.5178\n",
            "Epoch 3/15\n",
            "17/17 [==============================] - 1s 45ms/step - loss: 1.1304 - accuracy: 0.5733\n",
            "Epoch 4/15\n",
            "17/17 [==============================] - 1s 46ms/step - loss: 0.9225 - accuracy: 0.6915\n",
            "Epoch 5/15\n",
            "17/17 [==============================] - 1s 47ms/step - loss: 0.7394 - accuracy: 0.7723\n",
            "Epoch 6/15\n",
            "17/17 [==============================] - 1s 46ms/step - loss: 0.5820 - accuracy: 0.7920\n",
            "Epoch 7/15\n",
            "17/17 [==============================] - 1s 47ms/step - loss: 0.4968 - accuracy: 0.8664\n",
            "Epoch 8/15\n",
            "17/17 [==============================] - 1s 47ms/step - loss: 0.3611 - accuracy: 0.8865\n",
            "Epoch 9/15\n",
            "17/17 [==============================] - 1s 46ms/step - loss: 0.2237 - accuracy: 0.9468\n",
            "Epoch 10/15\n",
            "17/17 [==============================] - 1s 46ms/step - loss: 0.1669 - accuracy: 0.9670\n",
            "Epoch 11/15\n",
            "17/17 [==============================] - 1s 46ms/step - loss: 0.1366 - accuracy: 0.9774\n",
            "Epoch 12/15\n",
            "17/17 [==============================] - 1s 48ms/step - loss: 0.1132 - accuracy: 0.9768\n",
            "Epoch 13/15\n",
            "17/17 [==============================] - 1s 49ms/step - loss: 0.0983 - accuracy: 0.9753\n",
            "Epoch 14/15\n",
            "17/17 [==============================] - 1s 46ms/step - loss: 0.0967 - accuracy: 0.9757\n",
            "Epoch 15/15\n",
            "17/17 [==============================] - 1s 48ms/step - loss: 0.0767 - accuracy: 0.9835\n",
            "Returned: <keras.callbacks.History object at 0x7fec74e19850>\n"
          ],
          "name": "stdout"
        }
      ]
    },
    {
      "cell_type": "code",
      "metadata": {
        "colab": {
          "base_uri": "https://localhost:8080/"
        },
        "id": "Rt0SXEiZvdu4",
        "outputId": "1fa01318-383c-48a5-cefb-3ecf1073ef6a"
      },
      "source": [
        "\n",
        "# print the available keys\n",
        "# should see: dict_keys(['val_loss', 'acc', 'loss', 'val_acc'])\n",
        "print(r.history.keys())"
      ],
      "execution_count": null,
      "outputs": [
        {
          "output_type": "stream",
          "text": [
            "dict_keys(['loss', 'accuracy'])\n"
          ],
          "name": "stdout"
        }
      ]
    },
    {
      "cell_type": "code",
      "metadata": {
        "colab": {
          "base_uri": "https://localhost:8080/",
          "height": 265
        },
        "id": "ClGT5XiAvcim",
        "outputId": "5a80fcdc-dd89-42a8-9952-87c03399c976"
      },
      "source": [
        "\n",
        "# plot some data\n",
        "plt.plot(r.history['loss'], label='loss')\n",
        "#plt.plot(r.history['val_loss'], label='val_loss')\n",
        "plt.legend()\n",
        "plt.show()\n"
      ],
      "execution_count": null,
      "outputs": [
        {
          "output_type": "display_data",
          "data": {
            "image/png": "[encoded data removed]",
            "text/plain": [
              "<Figure size 432x288 with 1 Axes>"
            ]
          },
          "metadata": {
            "tags": [],
            "needs_background": "light"
          }
        }
      ]
    },
    {
      "cell_type": "code",
      "metadata": {
        "colab": {
          "base_uri": "https://localhost:8080/",
          "height": 265
        },
        "id": "roMaf-IAvqro",
        "outputId": "64cc43ad-f3f5-4a08-bef1-5aa9f2580022"
      },
      "source": [
        "# accuracies\n",
        "plt.plot(r.history['accuracy'], label='acc')\n",
        "#plt.plot(r.history['val_accuracy'], label='val_acc')\n",
        "plt.legend()\n",
        "plt.show()"
      ],
      "execution_count": null,
      "outputs": [
        {
          "output_type": "display_data",
          "data": {
            "image/png": "[encoded data removed]",
            "text/plain": [
              "<Figure size 432x288 with 1 Axes>"
            ]
          },
          "metadata": {
            "tags": [],
            "needs_background": "light"
          }
        }
      ]
    },
    {
      "cell_type": "code",
      "metadata": {
        "colab": {
          "base_uri": "https://localhost:8080/"
        },
        "id": "tgqUk-L2kL3R",
        "outputId": "3d7736ff-3eca-497b-8230-16b815f02b0c"
      },
      "source": [
        "ynew = model.predict_classes(X_test)\n",
        "print(ynew)"
      ],
      "execution_count": null,
      "outputs": [
        {
          "output_type": "stream",
          "text": [
            "/usr/local/lib/python3.7/dist-packages/keras/engine/sequential.py:450: UserWarning: `model.predict_classes()` is deprecated and will be removed after 2021-01-01. Please use instead:* `np.argmax(model.predict(x), axis=-1)`,   if your model does multi-class classification   (e.g. if it uses a `softmax` last-layer activation).* `(model.predict(x) > 0.5).astype(\"int32\")`,   if your model does binary classification   (e.g. if it uses a `sigmoid` last-layer activation).\n",
            "  warnings.warn('`model.predict_classes()` is deprecated and '\n"
          ],
          "name": "stderr"
        },
        {
          "output_type": "stream",
          "text": [
            "[0 0 0 4 0 0 0 0 0 4 0 0 0 0 0 0 0 0 0 0 0 0 0 0 0 0 0 0 0 0 0 0 0 0 4 0 0\n",
            " 0 0 0 0 0 0 0 0 0 0 0 0 0 0 0 0 0 4 0 0 0 0 0 0 0 4 0 0 0 0 0 0 0 0 0 0 0\n",
            " 0 0 0 0 4 0 0 0 0 0 0 0 0 0 0 0 0 0 0 0 0 0 0 0 0 0 0 0 4 0 0 0 0 0 0 0 0\n",
            " 0 0 0 0 0 0 0 0 0 0 4 0 0 0 0 0 0 0 0 0 0 0 0 0]\n"
          ],
          "name": "stdout"
        }
      ]
    },
    {
      "cell_type": "code",
      "metadata": {
        "colab": {
          "base_uri": "https://localhost:8080/"
        },
        "id": "MEah48_2piJS",
        "outputId": "0018dc0c-27e4-4c0c-f699-5e9db3518c36"
      },
      "source": [
        "y_resp = (model.predict(X_test) > 0.5).astype(\"int32\")\n",
        "#print(y_resp)"
      ],
      "execution_count": null,
      "outputs": [
        {
          "output_type": "stream",
          "text": [
            "[[1 0 0 0 0 0]\n",
            " [1 0 0 0 0 0]\n",
            " [1 0 0 0 0 0]\n",
            " [0 0 0 0 0 0]\n",
            " [0 0 0 0 0 0]\n",
            " [1 0 0 0 0 0]\n",
            " [1 0 0 0 0 0]\n",
            " [1 0 0 0 0 0]\n",
            " [1 0 0 0 0 0]\n",
            " [0 0 0 0 0 0]\n",
            " [1 0 0 0 0 0]\n",
            " [1 0 0 0 0 0]\n",
            " [1 0 0 0 0 0]\n",
            " [1 0 0 0 0 0]\n",
            " [1 0 0 0 0 0]\n",
            " [1 0 0 0 0 0]\n",
            " [1 0 0 0 0 0]\n",
            " [1 0 0 0 0 0]\n",
            " [1 0 0 0 0 0]\n",
            " [1 0 0 0 0 0]\n",
            " [1 0 0 0 0 0]\n",
            " [1 0 0 0 0 0]\n",
            " [1 0 0 0 0 0]\n",
            " [1 0 0 0 0 0]\n",
            " [1 0 0 0 0 0]\n",
            " [1 0 0 0 0 0]\n",
            " [1 0 0 0 0 0]\n",
            " [1 0 0 0 0 0]\n",
            " [1 0 0 0 0 0]\n",
            " [1 0 0 0 0 0]\n",
            " [1 0 0 0 0 0]\n",
            " [1 0 0 0 0 0]\n",
            " [1 0 0 0 0 0]\n",
            " [1 0 0 0 0 0]\n",
            " [0 0 0 0 0 0]\n",
            " [1 0 0 0 0 0]\n",
            " [1 0 0 0 0 0]\n",
            " [1 0 0 0 0 0]\n",
            " [1 0 0 0 0 0]\n",
            " [1 0 0 0 0 0]\n",
            " [1 0 0 0 0 0]\n",
            " [1 0 0 0 0 0]\n",
            " [0 0 0 0 0 0]\n",
            " [1 0 0 0 0 0]\n",
            " [1 0 0 0 0 0]\n",
            " [1 0 0 0 0 0]\n",
            " [1 0 0 0 0 0]\n",
            " [1 0 0 0 0 0]\n",
            " [1 0 0 0 0 0]\n",
            " [1 0 0 0 0 0]\n",
            " [1 0 0 0 0 0]\n",
            " [0 0 0 0 0 0]\n",
            " [1 0 0 0 0 0]\n",
            " [1 0 0 0 0 0]\n",
            " [0 0 0 0 0 0]\n",
            " [1 0 0 0 0 0]\n",
            " [1 0 0 0 0 0]\n",
            " [1 0 0 0 0 0]\n",
            " [1 0 0 0 0 0]\n",
            " [1 0 0 0 0 0]\n",
            " [1 0 0 0 0 0]\n",
            " [1 0 0 0 0 0]\n",
            " [0 0 0 0 0 0]\n",
            " [1 0 0 0 0 0]\n",
            " [1 0 0 0 0 0]\n",
            " [1 0 0 0 0 0]\n",
            " [1 0 0 0 0 0]\n",
            " [1 0 0 0 0 0]\n",
            " [0 0 0 0 0 0]\n",
            " [1 0 0 0 0 0]\n",
            " [1 0 0 0 0 0]\n",
            " [1 0 0 0 0 0]\n",
            " [1 0 0 0 0 0]\n",
            " [1 0 0 0 0 0]\n",
            " [1 0 0 0 0 0]\n",
            " [1 0 0 0 0 0]\n",
            " [1 0 0 0 0 0]\n",
            " [1 0 0 0 0 0]\n",
            " [0 0 0 0 0 0]\n",
            " [0 0 0 0 0 0]\n",
            " [1 0 0 0 0 0]\n",
            " [1 0 0 0 0 0]\n",
            " [1 0 0 0 0 0]\n",
            " [1 0 0 0 0 0]\n",
            " [1 0 0 0 0 0]\n",
            " [1 0 0 0 0 0]\n",
            " [1 0 0 0 0 0]\n",
            " [1 0 0 0 0 0]\n",
            " [1 0 0 0 0 0]\n",
            " [1 0 0 0 0 0]\n",
            " [1 0 0 0 0 0]\n",
            " [1 0 0 0 0 0]\n",
            " [1 0 0 0 0 0]\n",
            " [1 0 0 0 0 0]\n",
            " [1 0 0 0 0 0]\n",
            " [1 0 0 0 0 0]\n",
            " [1 0 0 0 0 0]\n",
            " [1 0 0 0 0 0]\n",
            " [1 0 0 0 0 0]\n",
            " [0 0 0 0 0 0]\n",
            " [1 0 0 0 0 0]\n",
            " [1 0 0 0 0 0]\n",
            " [0 0 0 0 1 0]\n",
            " [0 0 0 0 0 0]\n",
            " [1 0 0 0 0 0]\n",
            " [0 0 0 0 0 0]\n",
            " [1 0 0 0 0 0]\n",
            " [1 0 0 0 0 0]\n",
            " [1 0 0 0 0 0]\n",
            " [1 0 0 0 0 0]\n",
            " [1 0 0 0 0 0]\n",
            " [1 0 0 0 0 0]\n",
            " [1 0 0 0 0 0]\n",
            " [1 0 0 0 0 0]\n",
            " [1 0 0 0 0 0]\n",
            " [1 0 0 0 0 0]\n",
            " [1 0 0 0 0 0]\n",
            " [1 0 0 0 0 0]\n",
            " [1 0 0 0 0 0]\n",
            " [1 0 0 0 0 0]\n",
            " [1 0 0 0 0 0]\n",
            " [0 0 0 0 0 0]\n",
            " [1 0 0 0 0 0]\n",
            " [1 0 0 0 0 0]\n",
            " [1 0 0 0 0 0]\n",
            " [1 0 0 0 0 0]\n",
            " [1 0 0 0 0 0]\n",
            " [1 0 0 0 0 0]\n",
            " [1 0 0 0 0 0]\n",
            " [1 0 0 0 0 0]\n",
            " [0 0 0 0 0 0]\n",
            " [1 0 0 0 0 0]\n",
            " [1 0 0 0 0 0]\n",
            " [0 0 0 0 0 0]\n",
            " [1 0 0 0 0 0]]\n"
          ],
          "name": "stdout"
        }
      ]
    },
    {
      "cell_type": "code",
      "metadata": {
        "colab": {
          "base_uri": "https://localhost:8080/"
        },
        "id": "ahdlyTPZw7fu",
        "outputId": "91b69dde-6a99-4873-ee3e-d506eedd2681"
      },
      "source": [
        "model.predict(X_test)"
      ],
      "execution_count": null,
      "outputs": [
        {
          "output_type": "execute_result",
          "data": {
            "text/plain": [
              "array([[7.29000509e-01, 1.46041483e-01, 9.15258750e-03, 5.11216931e-03,\n",
              "        7.70052299e-02, 3.36880088e-02],\n",
              "       [8.31239402e-01, 1.77932009e-02, 2.64011417e-02, 6.10621693e-03,\n",
              "        1.13468267e-01, 4.99179261e-03],\n",
              "       [7.75780082e-01, 4.55354042e-02, 9.72030126e-03, 1.35409320e-02,\n",
              "        1.49288863e-01, 6.13435358e-03],\n",
              "       [3.75514388e-01, 1.26956537e-01, 2.81231813e-02, 9.08774324e-03,\n",
              "        4.43891585e-01, 1.64266359e-02],\n",
              "       [4.04902101e-01, 9.82169509e-02, 5.10777310e-02, 8.68193991e-03,\n",
              "        4.00869548e-01, 3.62516865e-02],\n",
              "       [7.44741976e-01, 2.71636695e-02, 5.18492563e-03, 3.14851962e-02,\n",
              "        1.85169354e-01, 6.25490025e-03],\n",
              "       [9.13138688e-01, 2.10679919e-02, 1.89184793e-03, 1.26825115e-02,\n",
              "        4.58824225e-02, 5.33654075e-03],\n",
              "       [8.66727114e-01, 7.14306580e-03, 4.35845368e-03, 1.77902132e-02,\n",
              "        1.02560565e-01, 1.42062595e-03],\n",
              "       [7.28965104e-01, 2.87433174e-02, 1.20608676e-02, 1.57518033e-02,\n",
              "        2.09553346e-01, 4.92561795e-03],\n",
              "       [3.62878352e-01, 1.42597139e-01, 1.81428529e-02, 5.19565400e-03,\n",
              "        4.64786798e-01, 6.39929250e-03],\n",
              "       [7.07164526e-01, 2.34490447e-02, 1.99875496e-02, 2.25307550e-02,\n",
              "        2.19770566e-01, 7.09739607e-03],\n",
              "       [8.20261240e-01, 1.58088598e-02, 1.36564579e-02, 2.26848908e-02,\n",
              "        1.22320563e-01, 5.26808482e-03],\n",
              "       [7.54678130e-01, 2.76696775e-02, 2.89981607e-02, 1.53829865e-02,\n",
              "        1.66676715e-01, 6.59436686e-03],\n",
              "       [8.29870701e-01, 1.43342372e-02, 6.63622469e-03, 1.50095215e-02,\n",
              "        1.29872337e-01, 4.27701138e-03],\n",
              "       [7.78626204e-01, 1.68601107e-02, 1.39824897e-02, 2.19247639e-02,\n",
              "        1.62513763e-01, 6.09268993e-03],\n",
              "       [9.00066614e-01, 2.56876182e-02, 1.43789558e-03, 1.86852049e-02,\n",
              "        4.77579758e-02, 6.36466080e-03],\n",
              "       [8.26548219e-01, 1.61385555e-02, 1.68749262e-02, 1.67850610e-02,\n",
              "        1.17489003e-01, 6.16419362e-03],\n",
              "       [6.65201008e-01, 2.96975430e-02, 8.63910653e-03, 2.17253882e-02,\n",
              "        2.67218560e-01, 7.51835201e-03],\n",
              "       [5.65793872e-01, 4.98843938e-02, 3.18039991e-02, 1.63454618e-02,\n",
              "        3.27378482e-01, 8.79377685e-03],\n",
              "       [7.62578130e-01, 3.39483730e-02, 7.90958479e-03, 9.34628304e-03,\n",
              "        1.81308046e-01, 4.90954518e-03],\n",
              "       [8.29288483e-01, 1.62675511e-02, 6.06030505e-03, 1.02300085e-02,\n",
              "        1.33253857e-01, 4.89976397e-03],\n",
              "       [8.28018725e-01, 4.20042463e-02, 5.04759848e-02, 5.77249192e-03,\n",
              "        6.79953098e-02, 5.73333306e-03],\n",
              "       [9.26306546e-01, 1.45300496e-02, 1.05798361e-03, 7.47756660e-03,\n",
              "        4.84708920e-02, 2.15690280e-03],\n",
              "       [6.75671041e-01, 4.97584529e-02, 2.22762246e-02, 2.36322936e-02,\n",
              "        2.09562093e-01, 1.91000216e-02],\n",
              "       [9.38194692e-01, 2.59271152e-02, 5.86183800e-04, 6.78042788e-03,\n",
              "        2.14481205e-02, 7.06355833e-03],\n",
              "       [8.75217795e-01, 1.97994076e-02, 3.47421155e-03, 2.44848803e-02,\n",
              "        7.05552697e-02, 6.46835566e-03],\n",
              "       [9.25247788e-01, 1.16807492e-02, 1.43132871e-02, 7.77107477e-03,\n",
              "        3.75526100e-02, 3.43444361e-03],\n",
              "       [9.30228710e-01, 2.22805217e-02, 1.12510670e-03, 5.08997543e-03,\n",
              "        3.74622010e-02, 3.81357898e-03],\n",
              "       [7.88795114e-01, 2.46716663e-02, 5.32643916e-03, 2.73865964e-02,\n",
              "        1.49516165e-01, 4.30400437e-03],\n",
              "       [8.33200395e-01, 2.05265582e-02, 4.89843590e-03, 1.70771852e-02,\n",
              "        1.21222779e-01, 3.07472306e-03],\n",
              "       [6.63579702e-01, 3.03272009e-02, 1.16503965e-02, 1.71900187e-02,\n",
              "        2.71657228e-01, 5.59529476e-03],\n",
              "       [6.87649369e-01, 1.29749238e-01, 7.74011388e-03, 1.11970892e-02,\n",
              "        1.47534996e-01, 1.61291417e-02],\n",
              "       [9.60746348e-01, 7.37177161e-03, 5.89314150e-04, 5.52696828e-03,\n",
              "        2.35672183e-02, 2.19825166e-03],\n",
              "       [7.24417508e-01, 3.27262580e-02, 5.75587992e-03, 2.77006328e-02,\n",
              "        2.02381000e-01, 7.01866345e-03],\n",
              "       [4.44217592e-01, 4.44989689e-02, 6.33722730e-03, 5.44597441e-03,\n",
              "        4.91358101e-01, 8.14221427e-03],\n",
              "       [7.05915034e-01, 2.63329390e-02, 1.05038332e-02, 1.70277730e-02,\n",
              "        2.33169168e-01, 7.05130817e-03],\n",
              "       [7.50085294e-01, 3.55512090e-02, 3.31073394e-03, 1.53548457e-02,\n",
              "        1.91517234e-01, 4.18072799e-03],\n",
              "       [8.40921640e-01, 1.95516776e-02, 1.97589351e-03, 4.25259070e-03,\n",
              "        1.06110446e-01, 2.71876659e-02],\n",
              "       [7.17718422e-01, 7.42019638e-02, 9.62074846e-03, 1.08054290e-02,\n",
              "        1.75824627e-01, 1.18288593e-02],\n",
              "       [8.33273947e-01, 3.18453051e-02, 4.77079302e-03, 1.19548319e-02,\n",
              "        1.11890011e-01, 6.26509357e-03],\n",
              "       [6.34448767e-01, 3.07042599e-02, 1.09989690e-02, 1.66094806e-02,\n",
              "        3.01609397e-01, 5.62913343e-03],\n",
              "       [9.16648328e-01, 6.50463579e-03, 2.81748665e-03, 8.57102126e-03,\n",
              "        6.34537563e-02, 2.00483692e-03],\n",
              "       [4.20287699e-01, 1.45150229e-01, 3.65536846e-02, 1.60270259e-02,\n",
              "        3.61652106e-01, 2.03292519e-02],\n",
              "       [8.05556417e-01, 3.44344564e-02, 3.12816422e-03, 2.50635706e-02,\n",
              "        1.26574904e-01, 5.24249021e-03],\n",
              "       [8.98258328e-01, 1.99782923e-02, 2.64396030e-03, 1.61631145e-02,\n",
              "        5.84642142e-02, 4.49218880e-03],\n",
              "       [9.78678644e-01, 5.08950045e-03, 7.98786758e-04, 4.20182478e-03,\n",
              "        1.00443112e-02, 1.18702499e-03],\n",
              "       [7.75805712e-01, 1.33135896e-02, 1.15669966e-02, 1.96690373e-02,\n",
              "        1.74644977e-01, 4.99963807e-03],\n",
              "       [8.87690544e-01, 2.49629766e-02, 1.49819348e-03, 1.23484861e-02,\n",
              "        6.98781535e-02, 3.62171652e-03],\n",
              "       [8.11453104e-01, 1.71418767e-02, 1.45950019e-02, 1.39976712e-02,\n",
              "        1.36548623e-01, 6.26365189e-03],\n",
              "       [8.11573267e-01, 2.47476138e-02, 6.63514994e-03, 1.61962993e-02,\n",
              "        1.35505587e-01, 5.34208911e-03],\n",
              "       [7.34827459e-01, 7.75378421e-02, 1.63914170e-02, 1.39236683e-02,\n",
              "        1.37606040e-01, 1.97136756e-02],\n",
              "       [4.40884918e-01, 1.17242791e-01, 7.23614767e-02, 7.38185877e-03,\n",
              "        3.44182611e-01, 1.79463457e-02],\n",
              "       [7.02560008e-01, 7.54165426e-02, 2.47361325e-02, 1.90846473e-02,\n",
              "        1.69351086e-01, 8.85151513e-03],\n",
              "       [8.19867074e-01, 1.12410625e-02, 5.12254192e-03, 1.64654627e-02,\n",
              "        1.43601134e-01, 3.70271504e-03],\n",
              "       [3.53986293e-01, 1.40400425e-01, 3.97680961e-02, 5.64583158e-03,\n",
              "        4.34614569e-01, 2.55847406e-02],\n",
              "       [6.28692031e-01, 7.02107027e-02, 7.38980621e-02, 8.72482080e-03,\n",
              "        2.08875120e-01, 9.59931687e-03],\n",
              "       [6.64158821e-01, 3.51655744e-02, 1.55029250e-02, 1.48904994e-02,\n",
              "        2.62483388e-01, 7.79875182e-03],\n",
              "       [5.54512739e-01, 4.77334671e-02, 3.36544104e-02, 1.58130042e-02,\n",
              "        3.38319153e-01, 9.96721257e-03],\n",
              "       [8.52606177e-01, 2.13994216e-02, 4.29883692e-03, 1.12552112e-02,\n",
              "        1.06248491e-01, 4.19192808e-03],\n",
              "       [6.66683316e-01, 1.34077907e-01, 4.35772073e-03, 2.10986435e-02,\n",
              "        1.48063228e-01, 2.57192180e-02],\n",
              "       [7.96666384e-01, 2.95220017e-02, 7.08507560e-03, 1.62485559e-02,\n",
              "        1.41955703e-01, 8.52236524e-03],\n",
              "       [7.36349702e-01, 2.31772326e-02, 1.24473870e-02, 1.43256988e-02,\n",
              "        2.08842427e-01, 4.85734083e-03],\n",
              "       [4.43462431e-01, 3.41485292e-02, 1.47591168e-02, 3.23074758e-02,\n",
              "        4.63764727e-01, 1.15576591e-02],\n",
              "       [6.35810494e-01, 8.59985501e-02, 6.00263067e-02, 8.63424502e-03,\n",
              "        1.99060783e-01, 1.04696043e-02],\n",
              "       [7.99702108e-01, 2.54053064e-02, 4.21302253e-03, 1.19358441e-02,\n",
              "        1.52746201e-01, 5.99747663e-03],\n",
              "       [7.78196216e-01, 3.13606039e-02, 6.68849796e-03, 1.33298635e-02,\n",
              "        1.67014420e-01, 3.41042783e-03],\n",
              "       [8.59714985e-01, 2.04293896e-02, 3.28038796e-03, 7.28781475e-03,\n",
              "        1.03107318e-01, 6.18017651e-03],\n",
              "       [5.99508166e-01, 9.42626745e-02, 1.16783809e-02, 2.20209341e-02,\n",
              "        2.55395681e-01, 1.71340518e-02],\n",
              "       [4.68917310e-01, 7.48356655e-02, 1.00065358e-02, 9.21249762e-03,\n",
              "        4.26305830e-01, 1.07222106e-02],\n",
              "       [9.05575156e-01, 7.66135240e-03, 3.66838207e-03, 1.54530853e-02,\n",
              "        6.54063672e-02, 2.23579374e-03],\n",
              "       [6.58525944e-01, 3.11084390e-02, 1.18820276e-02, 1.51186110e-02,\n",
              "        2.76185721e-01, 7.17926119e-03],\n",
              "       [8.48464310e-01, 2.51898989e-02, 1.64229004e-03, 6.49770349e-03,\n",
              "        1.14816256e-01, 3.38942395e-03],\n",
              "       [8.63615990e-01, 2.67616063e-02, 2.05515069e-03, 2.00231224e-02,\n",
              "        7.67837390e-02, 1.07603092e-02],\n",
              "       [8.55456293e-01, 1.26435105e-02, 5.69197070e-03, 1.39492601e-02,\n",
              "        1.09093606e-01, 3.16543458e-03],\n",
              "       [9.54098761e-01, 8.83650593e-03, 9.22196778e-04, 6.17294759e-03,\n",
              "        2.79505067e-02, 2.01907684e-03],\n",
              "       [8.10056269e-01, 5.64831831e-02, 1.14360992e-02, 6.89905370e-03,\n",
              "        1.09659463e-01, 5.46593498e-03],\n",
              "       [9.56680417e-01, 6.70412881e-03, 5.87782415e-04, 1.00716213e-02,\n",
              "        2.39213724e-02, 2.03470397e-03],\n",
              "       [7.50658453e-01, 2.52088122e-02, 6.14530966e-03, 3.31573114e-02,\n",
              "        1.77762344e-01, 7.06781400e-03],\n",
              "       [4.49248493e-01, 6.05967566e-02, 1.51672410e-02, 1.13020353e-02,\n",
              "        4.55050677e-01, 8.63469392e-03],\n",
              "       [4.51118201e-01, 1.18964233e-01, 2.64995191e-02, 1.59179624e-02,\n",
              "        3.74405175e-01, 1.30949011e-02],\n",
              "       [9.46371734e-01, 8.82863626e-03, 1.15521136e-03, 8.88448209e-03,\n",
              "        3.00989132e-02, 4.66087740e-03],\n",
              "       [6.92734063e-01, 2.15727817e-02, 1.49095608e-02, 2.01388616e-02,\n",
              "        2.45832041e-01, 4.81262151e-03],\n",
              "       [6.18151486e-01, 3.34655382e-02, 3.58486064e-02, 1.11708930e-02,\n",
              "        2.94428647e-01, 6.93480903e-03],\n",
              "       [9.53750551e-01, 1.69583522e-02, 7.57970382e-04, 7.98894931e-03,\n",
              "        1.81431193e-02, 2.40108510e-03],\n",
              "       [5.27861476e-01, 9.26606357e-02, 2.90912278e-02, 1.38566317e-02,\n",
              "        3.25573444e-01, 1.09565491e-02],\n",
              "       [9.60773230e-01, 1.23950886e-02, 1.11969560e-03, 3.87210213e-03,\n",
              "        1.16207562e-02, 1.02190608e-02],\n",
              "       [7.13976741e-01, 3.52675579e-02, 6.08866243e-03, 2.76834145e-02,\n",
              "        2.09498957e-01, 7.48467026e-03],\n",
              "       [6.70307636e-01, 1.03619121e-01, 2.35355645e-02, 1.00549879e-02,\n",
              "        1.69933125e-01, 2.25496031e-02],\n",
              "       [6.78969264e-01, 1.11162484e-01, 1.04033379e-02, 1.56755354e-02,\n",
              "        1.70604885e-01, 1.31845558e-02],\n",
              "       [8.32714677e-01, 1.87321622e-02, 2.40226742e-03, 1.65041517e-02,\n",
              "        1.24862894e-01, 4.78374772e-03],\n",
              "       [8.62381279e-01, 3.22469696e-02, 5.68010379e-03, 7.79649150e-03,\n",
              "        8.61458555e-02, 5.74918324e-03],\n",
              "       [8.63720655e-01, 1.40729370e-02, 1.15414523e-03, 2.21301112e-02,\n",
              "        9.56828296e-02, 3.23924422e-03],\n",
              "       [6.80523455e-01, 9.27286521e-02, 1.68601200e-02, 1.59924813e-02,\n",
              "        1.85215160e-01, 8.68009590e-03],\n",
              "       [8.34330738e-01, 1.29538737e-02, 7.80664431e-03, 1.75284874e-02,\n",
              "        1.23810612e-01, 3.56957410e-03],\n",
              "       [7.03546524e-01, 3.45593840e-02, 7.43754301e-03, 2.79043168e-02,\n",
              "        2.19166026e-01, 7.38629606e-03],\n",
              "       [8.92430544e-01, 1.51139926e-02, 5.62059833e-03, 1.35883316e-02,\n",
              "        6.89678192e-02, 4.27876879e-03],\n",
              "       [9.72935736e-01, 1.46694696e-02, 2.60920147e-04, 4.20849910e-03,\n",
              "        2.07249564e-03, 5.85280126e-03],\n",
              "       [8.07920098e-01, 2.29178313e-02, 2.47222697e-03, 1.76780187e-02,\n",
              "        1.45435333e-01, 3.57648730e-03],\n",
              "       [7.49765515e-01, 2.35660169e-02, 8.62030871e-03, 2.15799566e-02,\n",
              "        1.90773606e-01, 5.69458259e-03],\n",
              "       [4.58614826e-01, 1.52169526e-01, 2.35759802e-02, 1.06115667e-02,\n",
              "        3.37086499e-01, 1.79415029e-02],\n",
              "       [7.16663241e-01, 3.27974670e-02, 7.03165680e-03, 2.60229912e-02,\n",
              "        2.10936949e-01, 6.54772762e-03],\n",
              "       [9.32842016e-01, 1.19497748e-02, 2.79468391e-03, 8.96712393e-03,\n",
              "        3.94462943e-02, 4.00007283e-03],\n",
              "       [3.04733068e-01, 8.56881514e-02, 6.01807348e-02, 5.42002777e-03,\n",
              "        5.27072966e-01, 1.69049893e-02],\n",
              "       [4.50326383e-01, 1.41587824e-01, 1.68431848e-02, 1.74729060e-02,\n",
              "        3.59353930e-01, 1.44157531e-02],\n",
              "       [9.51948166e-01, 3.52495387e-02, 1.05185108e-03, 1.26210449e-03,\n",
              "        5.81661472e-03, 4.67174454e-03],\n",
              "       [4.60619867e-01, 5.49706928e-02, 1.38035696e-02, 1.43015813e-02,\n",
              "        4.48684573e-01, 7.61972880e-03],\n",
              "       [9.80551839e-01, 8.37313011e-03, 4.47144761e-04, 5.38287172e-03,\n",
              "        2.16143136e-03, 3.08375317e-03],\n",
              "       [7.41167903e-01, 6.49787039e-02, 6.53451728e-03, 1.82642713e-02,\n",
              "        1.63535491e-01, 5.51910978e-03],\n",
              "       [6.47420228e-01, 3.23476568e-02, 1.90839861e-02, 1.74355842e-02,\n",
              "        2.77685165e-01, 6.02741586e-03],\n",
              "       [7.20262527e-01, 1.52365848e-01, 2.65387744e-02, 5.13220020e-03,\n",
              "        7.82338753e-02, 1.74667295e-02],\n",
              "       [8.69155228e-01, 2.90695392e-02, 4.43510571e-03, 1.28294388e-02,\n",
              "        7.83838928e-02, 6.12682570e-03],\n",
              "       [7.85970509e-01, 1.81466881e-02, 1.33829024e-02, 1.07985744e-02,\n",
              "        1.65974051e-01, 5.72742475e-03],\n",
              "       [9.19626355e-01, 1.31776817e-02, 8.39240325e-04, 1.95433777e-02,\n",
              "        4.33679223e-02, 3.44534265e-03],\n",
              "       [7.19922066e-01, 2.41348892e-02, 4.44686506e-03, 2.13181749e-02,\n",
              "        2.22739905e-01, 7.43815815e-03],\n",
              "       [8.27050269e-01, 5.10311015e-02, 5.17524919e-03, 1.59253646e-02,\n",
              "        9.65971351e-02, 4.22079861e-03],\n",
              "       [9.95178103e-01, 2.07662396e-03, 9.05579946e-05, 5.80696447e-04,\n",
              "        1.19430467e-03, 8.79739120e-04],\n",
              "       [7.51420319e-01, 4.53523919e-02, 5.10872435e-03, 1.40582947e-02,\n",
              "        1.73031464e-01, 1.10288169e-02],\n",
              "       [9.42395151e-01, 2.63233185e-02, 1.32901478e-03, 7.73676112e-03,\n",
              "        1.42086074e-02, 8.00704677e-03],\n",
              "       [6.01393640e-01, 5.87826222e-02, 2.42630523e-02, 1.07494202e-02,\n",
              "        2.95563579e-01, 9.24765225e-03],\n",
              "       [7.68283904e-01, 2.58414987e-02, 7.45941605e-03, 3.23125198e-02,\n",
              "        1.59209773e-01, 6.89284457e-03],\n",
              "       [5.31573713e-01, 5.85975535e-02, 1.26388539e-02, 1.39479060e-02,\n",
              "        3.73850554e-01, 9.39142331e-03],\n",
              "       [2.78769314e-01, 1.53444007e-01, 6.74572587e-02, 5.99043816e-03,\n",
              "        4.72188711e-01, 2.21502855e-02],\n",
              "       [8.42654288e-01, 1.45690739e-02, 9.55391210e-03, 1.53849041e-02,\n",
              "        1.13204606e-01, 4.63328604e-03],\n",
              "       [6.98126435e-01, 6.70347363e-02, 2.03826651e-02, 7.03563634e-03,\n",
              "        1.99658468e-01, 7.76215503e-03],\n",
              "       [6.95734680e-01, 2.36057024e-02, 6.62405835e-03, 2.61489786e-02,\n",
              "        2.41240248e-01, 6.64633559e-03],\n",
              "       [9.54614162e-01, 1.78547315e-02, 4.16334864e-04, 1.08490512e-02,\n",
              "        8.65383819e-03, 7.61191780e-03],\n",
              "       [5.84100008e-01, 2.78835118e-01, 2.83567514e-03, 3.27152223e-03,\n",
              "        1.04995519e-01, 2.59621777e-02],\n",
              "       [6.32210553e-01, 5.19576594e-02, 1.02250483e-02, 2.76322793e-02,\n",
              "        2.70784676e-01, 7.18985125e-03],\n",
              "       [9.34537351e-01, 2.04700064e-02, 1.47213391e-03, 4.62240772e-03,\n",
              "        3.60938571e-02, 2.80427258e-03],\n",
              "       [8.23844194e-01, 2.66548395e-02, 4.09036968e-03, 9.46729816e-03,\n",
              "        1.28374785e-01, 7.56858895e-03],\n",
              "       [4.62343246e-01, 3.74274887e-02, 2.73198150e-02, 1.52948815e-02,\n",
              "        4.47972000e-01, 9.64260101e-03],\n",
              "       [8.34832966e-01, 2.16615144e-02, 1.00296671e-02, 1.60029829e-02,\n",
              "        1.13592945e-01, 3.87989078e-03],\n",
              "       [8.63468528e-01, 2.00141575e-02, 2.78361258e-03, 1.56067917e-02,\n",
              "        9.52374116e-02, 2.88942712e-03],\n",
              "       [4.87096429e-01, 1.27232552e-01, 1.66045465e-02, 9.17553063e-03,\n",
              "        3.50189984e-01, 9.70090367e-03],\n",
              "       [7.32957542e-01, 2.74747964e-02, 2.76533235e-02, 8.90552346e-03,\n",
              "        1.97181448e-01, 5.82732400e-03]], dtype=float32)"
            ]
          },
          "metadata": {
            "tags": []
          },
          "execution_count": 25
        }
      ]
    },
    {
      "cell_type": "code",
      "metadata": {
        "colab": {
          "base_uri": "https://localhost:8080/"
        },
        "id": "LpxchoawxD-U",
        "outputId": "350ba1d7-5c3b-4d94-b948-18485f578b1f"
      },
      "source": [
        "(model.predict(X_test)[0] > 0.5).astype(\"int32\")"
      ],
      "execution_count": null,
      "outputs": [
        {
          "output_type": "execute_result",
          "data": {
            "text/plain": [
              "array([1, 0, 0, 0, 0, 0], dtype=int32)"
            ]
          },
          "metadata": {
            "tags": []
          },
          "execution_count": 27
        }
      ]
    },
    {
      "cell_type": "code",
      "metadata": {
        "colab": {
          "base_uri": "https://localhost:8080/"
        },
        "id": "vomVndT8p2jC",
        "outputId": "7d909cf2-cde4-4de0-f8e2-8096b49550e7"
      },
      "source": [
        "y_class = np.zeros(len(Ind_test),dtype=int)\n",
        "for k in range(len(Ind_test)):\n",
        "  for kk in range(K):\n",
        "    if(Y_test[k,kk] == 1):\n",
        "      y_class[k] = kk\n",
        "print(y_class)\n",
        "y_true = y_class.copy()"
      ],
      "execution_count": null,
      "outputs": [
        {
          "output_type": "stream",
          "text": [
            "[1 5 4 2 2 4 3 3 2 4 4 3 3 3 5 3 2 0 4 0 0 1 1 5 3 1 0 4 0 4 1 2 2 1 2 4 5\n",
            " 2 5 0 4 3 2 0 2 0 3 0 4 0 2 1 0 0 5 5 3 1 0 2 4 1 1 2 5 0 4 5 4 2 4 2 3 0\n",
            " 0 2 1 4 5 2 3 3 5 1 1 3 1 5 2 3 5 3 1 0 1 5 2 0 4 2 4 0 2 4 1 4 2 1 4 1 1\n",
            " 0 3 1 1 2 4 0 4 0 4 5 0 1 1 3 1 4 2 0 5 3 0 4 4]\n"
          ],
          "name": "stdout"
        }
      ]
    },
    {
      "cell_type": "code",
      "metadata": {
        "colab": {
          "base_uri": "https://localhost:8080/"
        },
        "id": "jz5jmeuStXFj",
        "outputId": "57f2438b-5c37-486e-e3e9-3e846e877ecb"
      },
      "source": [
        "Y_test[-2,:]"
      ],
      "execution_count": null,
      "outputs": [
        {
          "output_type": "execute_result",
          "data": {
            "text/plain": [
              "array([0., 0., 0., 0., 1., 0.])"
            ]
          },
          "metadata": {
            "tags": []
          },
          "execution_count": 20
        }
      ]
    },
    {
      "cell_type": "code",
      "metadata": {
        "id": "syYA36aFvEzJ"
      },
      "source": [
        "y_class = np.zeros(len(Ind_test),dtype=int)\n",
        "for k in range(len(Ind_test)):\n",
        "  for kk in range(K):\n",
        "    if(y_resp[k,kk] == 1):\n",
        "      y_class[k] = kk\n",
        "y_pred = y_class.copy()"
      ],
      "execution_count": null,
      "outputs": []
    },
    {
      "cell_type": "code",
      "metadata": {
        "colab": {
          "base_uri": "https://localhost:8080/"
        },
        "id": "cbYUQNR1wsDI",
        "outputId": "858bb208-0a0a-44e8-916a-ecfbe8b5b9d9"
      },
      "source": [
        "y_pred"
      ],
      "execution_count": null,
      "outputs": [
        {
          "output_type": "execute_result",
          "data": {
            "text/plain": [
              "array([0, 0, 0, 0, 0, 0, 0, 0, 0, 0, 0, 0, 0, 0, 0, 0, 0, 0, 0, 0, 0, 0,\n",
              "       0, 0, 0, 0, 0, 0, 0, 0, 0, 0, 0, 0, 0, 0, 0, 0, 0, 0, 0, 0, 0, 0,\n",
              "       0, 0, 0, 0, 0, 0, 0, 0, 0, 0, 0, 0, 0, 0, 0, 0, 0, 0, 0, 0, 0, 0,\n",
              "       0, 0, 0, 0, 0, 0, 0, 0, 0, 0, 0, 0, 0, 0, 0, 0, 0, 0, 0, 0, 0, 0,\n",
              "       0, 0, 0, 0, 0, 0, 0, 0, 0, 0, 0, 0, 0, 0, 4, 0, 0, 0, 0, 0, 0, 0,\n",
              "       0, 0, 0, 0, 0, 0, 0, 0, 0, 0, 0, 0, 0, 0, 0, 0, 0, 0, 0, 0, 0, 0,\n",
              "       0, 0, 0])"
            ]
          },
          "metadata": {
            "tags": []
          },
          "execution_count": 24
        }
      ]
    },
    {
      "cell_type": "code",
      "metadata": {
        "colab": {
          "base_uri": "https://localhost:8080/"
        },
        "id": "21ex3uxFurej",
        "outputId": "72ed39f2-7666-411d-db5d-5340a6374a13"
      },
      "source": [
        "target_names = ['cardboard', 'glass', 'metal', 'paper', 'plastic', 'trash']\n",
        "print(classification_report(y_true, y_pred, target_names=target_names))"
      ],
      "execution_count": null,
      "outputs": [
        {
          "output_type": "stream",
          "text": [
            "              precision    recall  f1-score   support\n",
            "\n",
            "   cardboard       0.19      1.00      0.31        25\n",
            "       glass       0.00      0.00      0.00        25\n",
            "       metal       0.00      0.00      0.00        24\n",
            "       paper       0.00      0.00      0.00        19\n",
            "     plastic       0.00      0.00      0.00        26\n",
            "       trash       0.00      0.00      0.00        16\n",
            "\n",
            "    accuracy                           0.19       135\n",
            "   macro avg       0.03      0.17      0.05       135\n",
            "weighted avg       0.03      0.19      0.06       135\n",
            "\n"
          ],
          "name": "stdout"
        },
        {
          "output_type": "stream",
          "text": [
            "/usr/local/lib/python3.7/dist-packages/sklearn/metrics/_classification.py:1272: UndefinedMetricWarning: Precision and F-score are ill-defined and being set to 0.0 in labels with no predicted samples. Use `zero_division` parameter to control this behavior.\n",
            "  _warn_prf(average, modifier, msg_start, len(result))\n"
          ],
          "name": "stderr"
        }
      ]
    },
    {
      "cell_type": "code",
      "metadata": {
        "colab": {
          "base_uri": "https://localhost:8080/"
        },
        "id": "a7RxuOmTvrCh",
        "outputId": "61f243b5-f406-48c2-f2f5-3bce49eed390"
      },
      "source": [
        "y_true"
      ],
      "execution_count": null,
      "outputs": [
        {
          "output_type": "execute_result",
          "data": {
            "text/plain": [
              "array([1, 5, 4, 2, 2, 4, 3, 3, 2, 4, 4, 3, 3, 3, 5, 3, 2, 0, 4, 0, 0, 1,\n",
              "       1, 5, 3, 1, 0, 4, 0, 4, 1, 2, 2, 1, 2, 4, 5, 2, 5, 0, 4, 3, 2, 0,\n",
              "       2, 0, 3, 0, 4, 0, 2, 1, 0, 0, 5, 5, 3, 1, 0, 2, 4, 1, 1, 2, 5, 0,\n",
              "       4, 5, 4, 2, 4, 2, 3, 0, 0, 2, 1, 4, 5, 2, 3, 3, 5, 1, 1, 3, 1, 5,\n",
              "       2, 3, 5, 3, 1, 0, 1, 5, 2, 0, 4, 2, 4, 0, 2, 4, 1, 4, 2, 1, 4, 1,\n",
              "       1, 0, 3, 1, 1, 2, 4, 0, 4, 0, 4, 5, 0, 1, 1, 3, 1, 4, 2, 0, 5, 3,\n",
              "       0, 4, 4])"
            ]
          },
          "metadata": {
            "tags": []
          },
          "execution_count": 23
        }
      ]
    }
  ]
}